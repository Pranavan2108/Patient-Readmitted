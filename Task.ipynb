{
 "cells": [
  {
   "cell_type": "code",
   "execution_count": 6,
   "id": "e7aea1d7",
   "metadata": {},
   "outputs": [],
   "source": [
    "import pandas as pd\n",
    "\n",
    "import numpy as np\n",
    "\n",
    "from warnings import filterwarnings\n",
    "filterwarnings(\"ignore\")\n",
    "\n",
    "import seaborn as sns\n",
    "\n",
    "import matplotlib.pyplot as plt\n",
    "\n",
    "import plotly.express as px\n",
    "\n",
    "from scipy.stats import shapiro\n",
    "\n",
    "from scipy.stats import levene\n",
    "\n",
    "from scipy.stats import f_oneway\n",
    "\n",
    "from scipy.stats import chi2_contingency\n",
    "\n",
    "import statsmodels.api as sm\n",
    "from statsmodels.stats.multicomp import MultiComparison\n",
    "\n",
    "from sklearn.preprocessing import LabelEncoder\n",
    "\n",
    "from sklearn.preprocessing import StandardScaler\n",
    "\n",
    "from sklearn.model_selection import train_test_split , GridSearchCV\n",
    "\n",
    "from statsmodels.stats.outliers_influence import variance_inflation_factor\n",
    "\n",
    "from sklearn.metrics import classification_report\n",
    "\n",
    "from sklearn.metrics import f1_score\n",
    "\n",
    "from sklearn.ensemble import RandomForestClassifier\n",
    "\n",
    "from sklearn.neighbors import KNeighborsClassifier\n",
    "\n",
    "from sklearn.naive_bayes import GaussianNB\n",
    "\n",
    "from sklearn.ensemble import GradientBoostingClassifier\n"
   ]
  },
  {
   "cell_type": "code",
   "execution_count": 7,
   "id": "abd8e0e8",
   "metadata": {},
   "outputs": [],
   "source": [
    "df = pd.read_csv('hospital_readmissions.csv')"
   ]
  },
  {
   "cell_type": "code",
   "execution_count": 8,
   "id": "fa2ba3de",
   "metadata": {},
   "outputs": [
    {
     "data": {
      "text/html": [
       "<div>\n",
       "<style scoped>\n",
       "    .dataframe tbody tr th:only-of-type {\n",
       "        vertical-align: middle;\n",
       "    }\n",
       "\n",
       "    .dataframe tbody tr th {\n",
       "        vertical-align: top;\n",
       "    }\n",
       "\n",
       "    .dataframe thead th {\n",
       "        text-align: right;\n",
       "    }\n",
       "</style>\n",
       "<table border=\"1\" class=\"dataframe\">\n",
       "  <thead>\n",
       "    <tr style=\"text-align: right;\">\n",
       "      <th></th>\n",
       "      <th>age</th>\n",
       "      <th>time_in_hospital</th>\n",
       "      <th>n_lab_procedures</th>\n",
       "      <th>n_procedures</th>\n",
       "      <th>n_medications</th>\n",
       "      <th>n_outpatient</th>\n",
       "      <th>n_inpatient</th>\n",
       "      <th>n_emergency</th>\n",
       "      <th>medical_specialty</th>\n",
       "      <th>diag_1</th>\n",
       "      <th>diag_2</th>\n",
       "      <th>diag_3</th>\n",
       "      <th>glucose_test</th>\n",
       "      <th>A1Ctest</th>\n",
       "      <th>change</th>\n",
       "      <th>diabetes_med</th>\n",
       "      <th>readmitted</th>\n",
       "    </tr>\n",
       "  </thead>\n",
       "  <tbody>\n",
       "    <tr>\n",
       "      <th>0</th>\n",
       "      <td>[70-80)</td>\n",
       "      <td>8</td>\n",
       "      <td>72</td>\n",
       "      <td>1</td>\n",
       "      <td>18</td>\n",
       "      <td>2</td>\n",
       "      <td>0</td>\n",
       "      <td>0</td>\n",
       "      <td>Missing</td>\n",
       "      <td>Circulatory</td>\n",
       "      <td>Respiratory</td>\n",
       "      <td>Other</td>\n",
       "      <td>no</td>\n",
       "      <td>no</td>\n",
       "      <td>no</td>\n",
       "      <td>yes</td>\n",
       "      <td>no</td>\n",
       "    </tr>\n",
       "    <tr>\n",
       "      <th>1</th>\n",
       "      <td>[70-80)</td>\n",
       "      <td>3</td>\n",
       "      <td>34</td>\n",
       "      <td>2</td>\n",
       "      <td>13</td>\n",
       "      <td>0</td>\n",
       "      <td>0</td>\n",
       "      <td>0</td>\n",
       "      <td>Other</td>\n",
       "      <td>Other</td>\n",
       "      <td>Other</td>\n",
       "      <td>Other</td>\n",
       "      <td>no</td>\n",
       "      <td>no</td>\n",
       "      <td>no</td>\n",
       "      <td>yes</td>\n",
       "      <td>no</td>\n",
       "    </tr>\n",
       "    <tr>\n",
       "      <th>2</th>\n",
       "      <td>[50-60)</td>\n",
       "      <td>5</td>\n",
       "      <td>45</td>\n",
       "      <td>0</td>\n",
       "      <td>18</td>\n",
       "      <td>0</td>\n",
       "      <td>0</td>\n",
       "      <td>0</td>\n",
       "      <td>Missing</td>\n",
       "      <td>Circulatory</td>\n",
       "      <td>Circulatory</td>\n",
       "      <td>Circulatory</td>\n",
       "      <td>no</td>\n",
       "      <td>no</td>\n",
       "      <td>yes</td>\n",
       "      <td>yes</td>\n",
       "      <td>yes</td>\n",
       "    </tr>\n",
       "    <tr>\n",
       "      <th>3</th>\n",
       "      <td>[70-80)</td>\n",
       "      <td>2</td>\n",
       "      <td>36</td>\n",
       "      <td>0</td>\n",
       "      <td>12</td>\n",
       "      <td>1</td>\n",
       "      <td>0</td>\n",
       "      <td>0</td>\n",
       "      <td>Missing</td>\n",
       "      <td>Circulatory</td>\n",
       "      <td>Other</td>\n",
       "      <td>Diabetes</td>\n",
       "      <td>no</td>\n",
       "      <td>no</td>\n",
       "      <td>yes</td>\n",
       "      <td>yes</td>\n",
       "      <td>yes</td>\n",
       "    </tr>\n",
       "    <tr>\n",
       "      <th>4</th>\n",
       "      <td>[60-70)</td>\n",
       "      <td>1</td>\n",
       "      <td>42</td>\n",
       "      <td>0</td>\n",
       "      <td>7</td>\n",
       "      <td>0</td>\n",
       "      <td>0</td>\n",
       "      <td>0</td>\n",
       "      <td>InternalMedicine</td>\n",
       "      <td>Other</td>\n",
       "      <td>Circulatory</td>\n",
       "      <td>Respiratory</td>\n",
       "      <td>no</td>\n",
       "      <td>no</td>\n",
       "      <td>no</td>\n",
       "      <td>yes</td>\n",
       "      <td>no</td>\n",
       "    </tr>\n",
       "    <tr>\n",
       "      <th>...</th>\n",
       "      <td>...</td>\n",
       "      <td>...</td>\n",
       "      <td>...</td>\n",
       "      <td>...</td>\n",
       "      <td>...</td>\n",
       "      <td>...</td>\n",
       "      <td>...</td>\n",
       "      <td>...</td>\n",
       "      <td>...</td>\n",
       "      <td>...</td>\n",
       "      <td>...</td>\n",
       "      <td>...</td>\n",
       "      <td>...</td>\n",
       "      <td>...</td>\n",
       "      <td>...</td>\n",
       "      <td>...</td>\n",
       "      <td>...</td>\n",
       "    </tr>\n",
       "    <tr>\n",
       "      <th>24995</th>\n",
       "      <td>[80-90)</td>\n",
       "      <td>14</td>\n",
       "      <td>77</td>\n",
       "      <td>1</td>\n",
       "      <td>30</td>\n",
       "      <td>0</td>\n",
       "      <td>0</td>\n",
       "      <td>0</td>\n",
       "      <td>Missing</td>\n",
       "      <td>Circulatory</td>\n",
       "      <td>Other</td>\n",
       "      <td>Circulatory</td>\n",
       "      <td>no</td>\n",
       "      <td>normal</td>\n",
       "      <td>no</td>\n",
       "      <td>no</td>\n",
       "      <td>yes</td>\n",
       "    </tr>\n",
       "    <tr>\n",
       "      <th>24996</th>\n",
       "      <td>[80-90)</td>\n",
       "      <td>2</td>\n",
       "      <td>66</td>\n",
       "      <td>0</td>\n",
       "      <td>24</td>\n",
       "      <td>0</td>\n",
       "      <td>0</td>\n",
       "      <td>0</td>\n",
       "      <td>Missing</td>\n",
       "      <td>Digestive</td>\n",
       "      <td>Injury</td>\n",
       "      <td>Other</td>\n",
       "      <td>no</td>\n",
       "      <td>high</td>\n",
       "      <td>yes</td>\n",
       "      <td>yes</td>\n",
       "      <td>yes</td>\n",
       "    </tr>\n",
       "    <tr>\n",
       "      <th>24997</th>\n",
       "      <td>[70-80)</td>\n",
       "      <td>5</td>\n",
       "      <td>12</td>\n",
       "      <td>0</td>\n",
       "      <td>6</td>\n",
       "      <td>0</td>\n",
       "      <td>1</td>\n",
       "      <td>0</td>\n",
       "      <td>Missing</td>\n",
       "      <td>Other</td>\n",
       "      <td>Other</td>\n",
       "      <td>Other</td>\n",
       "      <td>normal</td>\n",
       "      <td>no</td>\n",
       "      <td>no</td>\n",
       "      <td>no</td>\n",
       "      <td>yes</td>\n",
       "    </tr>\n",
       "    <tr>\n",
       "      <th>24998</th>\n",
       "      <td>[70-80)</td>\n",
       "      <td>2</td>\n",
       "      <td>61</td>\n",
       "      <td>3</td>\n",
       "      <td>15</td>\n",
       "      <td>0</td>\n",
       "      <td>0</td>\n",
       "      <td>0</td>\n",
       "      <td>Family/GeneralPractice</td>\n",
       "      <td>Respiratory</td>\n",
       "      <td>Diabetes</td>\n",
       "      <td>Other</td>\n",
       "      <td>no</td>\n",
       "      <td>no</td>\n",
       "      <td>yes</td>\n",
       "      <td>yes</td>\n",
       "      <td>no</td>\n",
       "    </tr>\n",
       "    <tr>\n",
       "      <th>24999</th>\n",
       "      <td>[50-60)</td>\n",
       "      <td>10</td>\n",
       "      <td>37</td>\n",
       "      <td>1</td>\n",
       "      <td>24</td>\n",
       "      <td>0</td>\n",
       "      <td>0</td>\n",
       "      <td>0</td>\n",
       "      <td>Missing</td>\n",
       "      <td>Other</td>\n",
       "      <td>Diabetes</td>\n",
       "      <td>Circulatory</td>\n",
       "      <td>no</td>\n",
       "      <td>no</td>\n",
       "      <td>no</td>\n",
       "      <td>no</td>\n",
       "      <td>yes</td>\n",
       "    </tr>\n",
       "  </tbody>\n",
       "</table>\n",
       "<p>25000 rows × 17 columns</p>\n",
       "</div>"
      ],
      "text/plain": [
       "           age  time_in_hospital  n_lab_procedures  n_procedures  \\\n",
       "0      [70-80)                 8                72             1   \n",
       "1      [70-80)                 3                34             2   \n",
       "2      [50-60)                 5                45             0   \n",
       "3      [70-80)                 2                36             0   \n",
       "4      [60-70)                 1                42             0   \n",
       "...        ...               ...               ...           ...   \n",
       "24995  [80-90)                14                77             1   \n",
       "24996  [80-90)                 2                66             0   \n",
       "24997  [70-80)                 5                12             0   \n",
       "24998  [70-80)                 2                61             3   \n",
       "24999  [50-60)                10                37             1   \n",
       "\n",
       "       n_medications  n_outpatient  n_inpatient  n_emergency  \\\n",
       "0                 18             2            0            0   \n",
       "1                 13             0            0            0   \n",
       "2                 18             0            0            0   \n",
       "3                 12             1            0            0   \n",
       "4                  7             0            0            0   \n",
       "...              ...           ...          ...          ...   \n",
       "24995             30             0            0            0   \n",
       "24996             24             0            0            0   \n",
       "24997              6             0            1            0   \n",
       "24998             15             0            0            0   \n",
       "24999             24             0            0            0   \n",
       "\n",
       "            medical_specialty       diag_1       diag_2       diag_3  \\\n",
       "0                     Missing  Circulatory  Respiratory        Other   \n",
       "1                       Other        Other        Other        Other   \n",
       "2                     Missing  Circulatory  Circulatory  Circulatory   \n",
       "3                     Missing  Circulatory        Other     Diabetes   \n",
       "4            InternalMedicine        Other  Circulatory  Respiratory   \n",
       "...                       ...          ...          ...          ...   \n",
       "24995                 Missing  Circulatory        Other  Circulatory   \n",
       "24996                 Missing    Digestive       Injury        Other   \n",
       "24997                 Missing        Other        Other        Other   \n",
       "24998  Family/GeneralPractice  Respiratory     Diabetes        Other   \n",
       "24999                 Missing        Other     Diabetes  Circulatory   \n",
       "\n",
       "      glucose_test A1Ctest change diabetes_med readmitted  \n",
       "0               no      no     no          yes         no  \n",
       "1               no      no     no          yes         no  \n",
       "2               no      no    yes          yes        yes  \n",
       "3               no      no    yes          yes        yes  \n",
       "4               no      no     no          yes         no  \n",
       "...            ...     ...    ...          ...        ...  \n",
       "24995           no  normal     no           no        yes  \n",
       "24996           no    high    yes          yes        yes  \n",
       "24997       normal      no     no           no        yes  \n",
       "24998           no      no    yes          yes         no  \n",
       "24999           no      no     no           no        yes  \n",
       "\n",
       "[25000 rows x 17 columns]"
      ]
     },
     "execution_count": 8,
     "metadata": {},
     "output_type": "execute_result"
    }
   ],
   "source": [
    "df"
   ]
  },
  {
   "cell_type": "markdown",
   "id": "3696d62e",
   "metadata": {},
   "source": [
    "#### Basic Analysis"
   ]
  },
  {
   "cell_type": "code",
   "execution_count": 9,
   "id": "ff98fc31",
   "metadata": {},
   "outputs": [
    {
     "name": "stdout",
     "output_type": "stream",
     "text": [
      " the number of rows = 25000 and the number of columns = 17\n"
     ]
    }
   ],
   "source": [
    "print(f' the number of rows = {df.shape[0]} and the number of columns = {df.shape[1]}')"
   ]
  },
  {
   "cell_type": "markdown",
   "id": "ec929f64",
   "metadata": {},
   "source": [
    "#### Size"
   ]
  },
  {
   "cell_type": "code",
   "execution_count": 10,
   "id": "298334a8",
   "metadata": {},
   "outputs": [
    {
     "data": {
      "text/plain": [
       "425000"
      ]
     },
     "execution_count": 10,
     "metadata": {},
     "output_type": "execute_result"
    }
   ],
   "source": [
    "df.size"
   ]
  },
  {
   "cell_type": "markdown",
   "id": "03c04f8a",
   "metadata": {},
   "source": [
    "#### Duplicates"
   ]
  },
  {
   "cell_type": "code",
   "execution_count": 11,
   "id": "9dcdfd43",
   "metadata": {},
   "outputs": [
    {
     "data": {
      "text/plain": [
       "False"
      ]
     },
     "execution_count": 11,
     "metadata": {},
     "output_type": "execute_result"
    }
   ],
   "source": [
    "df.duplicated().any()"
   ]
  },
  {
   "cell_type": "markdown",
   "id": "c6160736",
   "metadata": {},
   "source": [
    "#### Data types"
   ]
  },
  {
   "cell_type": "code",
   "execution_count": 12,
   "id": "de4ccb58",
   "metadata": {},
   "outputs": [
    {
     "data": {
      "text/plain": [
       "age                  object\n",
       "time_in_hospital      int64\n",
       "n_lab_procedures      int64\n",
       "n_procedures          int64\n",
       "n_medications         int64\n",
       "n_outpatient          int64\n",
       "n_inpatient           int64\n",
       "n_emergency           int64\n",
       "medical_specialty    object\n",
       "diag_1               object\n",
       "diag_2               object\n",
       "diag_3               object\n",
       "glucose_test         object\n",
       "A1Ctest              object\n",
       "change               object\n",
       "diabetes_med         object\n",
       "readmitted           object\n",
       "dtype: object"
      ]
     },
     "execution_count": 12,
     "metadata": {},
     "output_type": "execute_result"
    }
   ],
   "source": [
    "df.dtypes"
   ]
  },
  {
   "cell_type": "code",
   "execution_count": 13,
   "id": "6772c789",
   "metadata": {},
   "outputs": [
    {
     "name": "stdout",
     "output_type": "stream",
     "text": [
      "<class 'pandas.core.frame.DataFrame'>\n",
      "RangeIndex: 25000 entries, 0 to 24999\n",
      "Data columns (total 17 columns):\n",
      " #   Column             Non-Null Count  Dtype \n",
      "---  ------             --------------  ----- \n",
      " 0   age                25000 non-null  object\n",
      " 1   time_in_hospital   25000 non-null  int64 \n",
      " 2   n_lab_procedures   25000 non-null  int64 \n",
      " 3   n_procedures       25000 non-null  int64 \n",
      " 4   n_medications      25000 non-null  int64 \n",
      " 5   n_outpatient       25000 non-null  int64 \n",
      " 6   n_inpatient        25000 non-null  int64 \n",
      " 7   n_emergency        25000 non-null  int64 \n",
      " 8   medical_specialty  25000 non-null  object\n",
      " 9   diag_1             25000 non-null  object\n",
      " 10  diag_2             25000 non-null  object\n",
      " 11  diag_3             25000 non-null  object\n",
      " 12  glucose_test       25000 non-null  object\n",
      " 13  A1Ctest            25000 non-null  object\n",
      " 14  change             25000 non-null  object\n",
      " 15  diabetes_med       25000 non-null  object\n",
      " 16  readmitted         25000 non-null  object\n",
      "dtypes: int64(7), object(10)\n",
      "memory usage: 3.2+ MB\n"
     ]
    }
   ],
   "source": [
    "df.info()"
   ]
  },
  {
   "cell_type": "code",
   "execution_count": 14,
   "id": "4936506e",
   "metadata": {},
   "outputs": [
    {
     "data": {
      "text/plain": [
       "age                  0\n",
       "time_in_hospital     0\n",
       "n_lab_procedures     0\n",
       "n_procedures         0\n",
       "n_medications        0\n",
       "n_outpatient         0\n",
       "n_inpatient          0\n",
       "n_emergency          0\n",
       "medical_specialty    0\n",
       "diag_1               0\n",
       "diag_2               0\n",
       "diag_3               0\n",
       "glucose_test         0\n",
       "A1Ctest              0\n",
       "change               0\n",
       "diabetes_med         0\n",
       "readmitted           0\n",
       "dtype: int64"
      ]
     },
     "execution_count": 14,
     "metadata": {},
     "output_type": "execute_result"
    }
   ],
   "source": [
    "# checking for null values\n",
    "df.isna().sum()"
   ]
  },
  {
   "cell_type": "code",
   "execution_count": 15,
   "id": "dcd3c8a3",
   "metadata": {},
   "outputs": [
    {
     "data": {
      "text/html": [
       "<div>\n",
       "<style scoped>\n",
       "    .dataframe tbody tr th:only-of-type {\n",
       "        vertical-align: middle;\n",
       "    }\n",
       "\n",
       "    .dataframe tbody tr th {\n",
       "        vertical-align: top;\n",
       "    }\n",
       "\n",
       "    .dataframe thead th {\n",
       "        text-align: right;\n",
       "    }\n",
       "</style>\n",
       "<table border=\"1\" class=\"dataframe\">\n",
       "  <thead>\n",
       "    <tr style=\"text-align: right;\">\n",
       "      <th></th>\n",
       "      <th>time_in_hospital</th>\n",
       "      <th>n_lab_procedures</th>\n",
       "      <th>n_procedures</th>\n",
       "      <th>n_medications</th>\n",
       "      <th>n_outpatient</th>\n",
       "      <th>n_inpatient</th>\n",
       "      <th>n_emergency</th>\n",
       "    </tr>\n",
       "  </thead>\n",
       "  <tbody>\n",
       "    <tr>\n",
       "      <th>count</th>\n",
       "      <td>25000.00000</td>\n",
       "      <td>25000.00000</td>\n",
       "      <td>25000.000000</td>\n",
       "      <td>25000.000000</td>\n",
       "      <td>25000.000000</td>\n",
       "      <td>25000.000000</td>\n",
       "      <td>25000.000000</td>\n",
       "    </tr>\n",
       "    <tr>\n",
       "      <th>mean</th>\n",
       "      <td>4.45332</td>\n",
       "      <td>43.24076</td>\n",
       "      <td>1.352360</td>\n",
       "      <td>16.252400</td>\n",
       "      <td>0.366400</td>\n",
       "      <td>0.615960</td>\n",
       "      <td>0.186600</td>\n",
       "    </tr>\n",
       "    <tr>\n",
       "      <th>std</th>\n",
       "      <td>3.00147</td>\n",
       "      <td>19.81862</td>\n",
       "      <td>1.715179</td>\n",
       "      <td>8.060532</td>\n",
       "      <td>1.195478</td>\n",
       "      <td>1.177951</td>\n",
       "      <td>0.885873</td>\n",
       "    </tr>\n",
       "    <tr>\n",
       "      <th>min</th>\n",
       "      <td>1.00000</td>\n",
       "      <td>1.00000</td>\n",
       "      <td>0.000000</td>\n",
       "      <td>1.000000</td>\n",
       "      <td>0.000000</td>\n",
       "      <td>0.000000</td>\n",
       "      <td>0.000000</td>\n",
       "    </tr>\n",
       "    <tr>\n",
       "      <th>25%</th>\n",
       "      <td>2.00000</td>\n",
       "      <td>31.00000</td>\n",
       "      <td>0.000000</td>\n",
       "      <td>11.000000</td>\n",
       "      <td>0.000000</td>\n",
       "      <td>0.000000</td>\n",
       "      <td>0.000000</td>\n",
       "    </tr>\n",
       "    <tr>\n",
       "      <th>50%</th>\n",
       "      <td>4.00000</td>\n",
       "      <td>44.00000</td>\n",
       "      <td>1.000000</td>\n",
       "      <td>15.000000</td>\n",
       "      <td>0.000000</td>\n",
       "      <td>0.000000</td>\n",
       "      <td>0.000000</td>\n",
       "    </tr>\n",
       "    <tr>\n",
       "      <th>75%</th>\n",
       "      <td>6.00000</td>\n",
       "      <td>57.00000</td>\n",
       "      <td>2.000000</td>\n",
       "      <td>20.000000</td>\n",
       "      <td>0.000000</td>\n",
       "      <td>1.000000</td>\n",
       "      <td>0.000000</td>\n",
       "    </tr>\n",
       "    <tr>\n",
       "      <th>max</th>\n",
       "      <td>14.00000</td>\n",
       "      <td>113.00000</td>\n",
       "      <td>6.000000</td>\n",
       "      <td>79.000000</td>\n",
       "      <td>33.000000</td>\n",
       "      <td>15.000000</td>\n",
       "      <td>64.000000</td>\n",
       "    </tr>\n",
       "  </tbody>\n",
       "</table>\n",
       "</div>"
      ],
      "text/plain": [
       "       time_in_hospital  n_lab_procedures  n_procedures  n_medications  \\\n",
       "count       25000.00000       25000.00000  25000.000000   25000.000000   \n",
       "mean            4.45332          43.24076      1.352360      16.252400   \n",
       "std             3.00147          19.81862      1.715179       8.060532   \n",
       "min             1.00000           1.00000      0.000000       1.000000   \n",
       "25%             2.00000          31.00000      0.000000      11.000000   \n",
       "50%             4.00000          44.00000      1.000000      15.000000   \n",
       "75%             6.00000          57.00000      2.000000      20.000000   \n",
       "max            14.00000         113.00000      6.000000      79.000000   \n",
       "\n",
       "       n_outpatient   n_inpatient   n_emergency  \n",
       "count  25000.000000  25000.000000  25000.000000  \n",
       "mean       0.366400      0.615960      0.186600  \n",
       "std        1.195478      1.177951      0.885873  \n",
       "min        0.000000      0.000000      0.000000  \n",
       "25%        0.000000      0.000000      0.000000  \n",
       "50%        0.000000      0.000000      0.000000  \n",
       "75%        0.000000      1.000000      0.000000  \n",
       "max       33.000000     15.000000     64.000000  "
      ]
     },
     "execution_count": 15,
     "metadata": {},
     "output_type": "execute_result"
    }
   ],
   "source": [
    "#summary of integer features\n",
    "df.describe()"
   ]
  },
  {
   "cell_type": "code",
   "execution_count": 16,
   "id": "7d93c6bb",
   "metadata": {},
   "outputs": [
    {
     "data": {
      "text/plain": [
       "0"
      ]
     },
     "execution_count": 16,
     "metadata": {},
     "output_type": "execute_result"
    }
   ],
   "source": [
    "#checking for duplicate values\n",
    "df.duplicated().sum()"
   ]
  },
  {
   "cell_type": "code",
   "execution_count": 17,
   "id": "d25492bd",
   "metadata": {},
   "outputs": [],
   "source": [
    "# dropping dulpicate values\n",
    "df.drop_duplicates(inplace = True)"
   ]
  },
  {
   "cell_type": "code",
   "execution_count": 18,
   "id": "07a0dbaa",
   "metadata": {},
   "outputs": [
    {
     "data": {
      "text/plain": [
       "count    25000.00000\n",
       "mean         4.45332\n",
       "std          3.00147\n",
       "min          1.00000\n",
       "25%          2.00000\n",
       "50%          4.00000\n",
       "75%          6.00000\n",
       "max         14.00000\n",
       "Name: time_in_hospital, dtype: float64"
      ]
     },
     "execution_count": 18,
     "metadata": {},
     "output_type": "execute_result"
    }
   ],
   "source": [
    "df.time_in_hospital.describe()"
   ]
  },
  {
   "cell_type": "code",
   "execution_count": 19,
   "id": "859d710a",
   "metadata": {},
   "outputs": [
    {
     "data": {
      "text/plain": [
       "time_in_hospital\n",
       "3     4311\n",
       "2     3986\n",
       "1     3480\n",
       "4     3467\n",
       "5     2542\n",
       "6     1895\n",
       "7     1467\n",
       "8     1104\n",
       "9      768\n",
       "10     588\n",
       "11     458\n",
       "12     354\n",
       "13     299\n",
       "14     281\n",
       "Name: count, dtype: int64"
      ]
     },
     "execution_count": 19,
     "metadata": {},
     "output_type": "execute_result"
    }
   ],
   "source": [
    "df.time_in_hospital.value_counts()"
   ]
  },
  {
   "cell_type": "code",
   "execution_count": 20,
   "id": "4fea071f",
   "metadata": {},
   "outputs": [
    {
     "data": {
      "text/plain": [
       "count    25000.00000\n",
       "mean        43.24076\n",
       "std         19.81862\n",
       "min          1.00000\n",
       "25%         31.00000\n",
       "50%         44.00000\n",
       "75%         57.00000\n",
       "max        113.00000\n",
       "Name: n_lab_procedures, dtype: float64"
      ]
     },
     "execution_count": 20,
     "metadata": {},
     "output_type": "execute_result"
    }
   ],
   "source": [
    "df.n_lab_procedures.describe()"
   ]
  },
  {
   "cell_type": "code",
   "execution_count": 21,
   "id": "2ad47673",
   "metadata": {},
   "outputs": [
    {
     "data": {
      "text/plain": [
       "count    25000.000000\n",
       "mean         1.352360\n",
       "std          1.715179\n",
       "min          0.000000\n",
       "25%          0.000000\n",
       "50%          1.000000\n",
       "75%          2.000000\n",
       "max          6.000000\n",
       "Name: n_procedures, dtype: float64"
      ]
     },
     "execution_count": 21,
     "metadata": {},
     "output_type": "execute_result"
    }
   ],
   "source": [
    "df.n_procedures.describe()"
   ]
  },
  {
   "cell_type": "code",
   "execution_count": 22,
   "id": "8f40d747",
   "metadata": {},
   "outputs": [
    {
     "data": {
      "text/plain": [
       "count    25000.000000\n",
       "mean        16.252400\n",
       "std          8.060532\n",
       "min          1.000000\n",
       "25%         11.000000\n",
       "50%         15.000000\n",
       "75%         20.000000\n",
       "max         79.000000\n",
       "Name: n_medications, dtype: float64"
      ]
     },
     "execution_count": 22,
     "metadata": {},
     "output_type": "execute_result"
    }
   ],
   "source": [
    "df.n_medications.describe()"
   ]
  },
  {
   "cell_type": "code",
   "execution_count": 23,
   "id": "6b5dca0c",
   "metadata": {},
   "outputs": [
    {
     "data": {
      "text/plain": [
       "count    25000.000000\n",
       "mean         0.366400\n",
       "std          1.195478\n",
       "min          0.000000\n",
       "25%          0.000000\n",
       "50%          0.000000\n",
       "75%          0.000000\n",
       "max         33.000000\n",
       "Name: n_outpatient, dtype: float64"
      ]
     },
     "execution_count": 23,
     "metadata": {},
     "output_type": "execute_result"
    }
   ],
   "source": [
    "df.n_outpatient.describe()"
   ]
  },
  {
   "cell_type": "code",
   "execution_count": 24,
   "id": "12f1917f",
   "metadata": {},
   "outputs": [
    {
     "data": {
      "text/plain": [
       "count    25000.000000\n",
       "mean         0.615960\n",
       "std          1.177951\n",
       "min          0.000000\n",
       "25%          0.000000\n",
       "50%          0.000000\n",
       "75%          1.000000\n",
       "max         15.000000\n",
       "Name: n_inpatient, dtype: float64"
      ]
     },
     "execution_count": 24,
     "metadata": {},
     "output_type": "execute_result"
    }
   ],
   "source": [
    "df.n_inpatient.describe()"
   ]
  },
  {
   "cell_type": "code",
   "execution_count": 25,
   "id": "cc268f95",
   "metadata": {},
   "outputs": [
    {
     "data": {
      "text/plain": [
       "count    25000.000000\n",
       "mean         0.186600\n",
       "std          0.885873\n",
       "min          0.000000\n",
       "25%          0.000000\n",
       "50%          0.000000\n",
       "75%          0.000000\n",
       "max         64.000000\n",
       "Name: n_emergency, dtype: float64"
      ]
     },
     "execution_count": 25,
     "metadata": {},
     "output_type": "execute_result"
    }
   ],
   "source": [
    "df.n_emergency.describe()"
   ]
  },
  {
   "cell_type": "code",
   "execution_count": 26,
   "id": "b28d31d1",
   "metadata": {},
   "outputs": [
    {
     "data": {
      "text/plain": [
       "count       25000\n",
       "unique          7\n",
       "top       Missing\n",
       "freq        12382\n",
       "Name: medical_specialty, dtype: object"
      ]
     },
     "execution_count": 26,
     "metadata": {},
     "output_type": "execute_result"
    }
   ],
   "source": [
    "df.medical_specialty.describe()"
   ]
  },
  {
   "cell_type": "code",
   "execution_count": 27,
   "id": "099b3139",
   "metadata": {},
   "outputs": [
    {
     "data": {
      "text/plain": [
       "count           25000\n",
       "unique              8\n",
       "top       Circulatory\n",
       "freq             7824\n",
       "Name: diag_1, dtype: object"
      ]
     },
     "execution_count": 27,
     "metadata": {},
     "output_type": "execute_result"
    }
   ],
   "source": [
    "df.diag_1.describe()"
   ]
  },
  {
   "cell_type": "code",
   "execution_count": 28,
   "id": "f8a445f2",
   "metadata": {},
   "outputs": [
    {
     "data": {
      "text/plain": [
       "count     25000\n",
       "unique        8\n",
       "top       Other\n",
       "freq       9056\n",
       "Name: diag_2, dtype: object"
      ]
     },
     "execution_count": 28,
     "metadata": {},
     "output_type": "execute_result"
    }
   ],
   "source": [
    "df.diag_2.describe()"
   ]
  },
  {
   "cell_type": "code",
   "execution_count": 29,
   "id": "25fcadc9",
   "metadata": {},
   "outputs": [
    {
     "data": {
      "text/plain": [
       "count     25000\n",
       "unique        8\n",
       "top       Other\n",
       "freq       9107\n",
       "Name: diag_3, dtype: object"
      ]
     },
     "execution_count": 29,
     "metadata": {},
     "output_type": "execute_result"
    }
   ],
   "source": [
    "df.diag_3.describe()"
   ]
  },
  {
   "cell_type": "code",
   "execution_count": 30,
   "id": "bd454d2d",
   "metadata": {},
   "outputs": [
    {
     "data": {
      "text/plain": [
       "count     25000\n",
       "unique        3\n",
       "top          no\n",
       "freq      23625\n",
       "Name: glucose_test, dtype: object"
      ]
     },
     "execution_count": 30,
     "metadata": {},
     "output_type": "execute_result"
    }
   ],
   "source": [
    "df.glucose_test.describe()"
   ]
  },
  {
   "cell_type": "code",
   "execution_count": 31,
   "id": "c258ab00",
   "metadata": {},
   "outputs": [
    {
     "data": {
      "text/plain": [
       "count     25000\n",
       "unique        3\n",
       "top          no\n",
       "freq      20938\n",
       "Name: A1Ctest, dtype: object"
      ]
     },
     "execution_count": 31,
     "metadata": {},
     "output_type": "execute_result"
    }
   ],
   "source": [
    "df.A1Ctest.describe()"
   ]
  },
  {
   "cell_type": "code",
   "execution_count": 32,
   "id": "2fcea030",
   "metadata": {},
   "outputs": [
    {
     "data": {
      "text/plain": [
       "count     25000\n",
       "unique        2\n",
       "top          no\n",
       "freq      13497\n",
       "Name: change, dtype: object"
      ]
     },
     "execution_count": 32,
     "metadata": {},
     "output_type": "execute_result"
    }
   ],
   "source": [
    "df.change.describe()"
   ]
  },
  {
   "cell_type": "code",
   "execution_count": 33,
   "id": "814a6243",
   "metadata": {},
   "outputs": [
    {
     "data": {
      "text/plain": [
       "count     25000\n",
       "unique        2\n",
       "top         yes\n",
       "freq      19228\n",
       "Name: diabetes_med, dtype: object"
      ]
     },
     "execution_count": 33,
     "metadata": {},
     "output_type": "execute_result"
    }
   ],
   "source": [
    "df.diabetes_med.describe()"
   ]
  },
  {
   "cell_type": "code",
   "execution_count": 34,
   "id": "cee2f1de",
   "metadata": {},
   "outputs": [
    {
     "data": {
      "text/plain": [
       "count     25000\n",
       "unique        2\n",
       "top          no\n",
       "freq      13246\n",
       "Name: readmitted, dtype: object"
      ]
     },
     "execution_count": 34,
     "metadata": {},
     "output_type": "execute_result"
    }
   ],
   "source": [
    "df.readmitted.describe()"
   ]
  },
  {
   "cell_type": "code",
   "execution_count": null,
   "id": "9a164e44",
   "metadata": {},
   "outputs": [],
   "source": []
  },
  {
   "cell_type": "code",
   "execution_count": 35,
   "id": "6248b845",
   "metadata": {},
   "outputs": [
    {
     "data": {
      "text/plain": [
       "readmitted\n",
       "no     13246\n",
       "yes    11754\n",
       "Name: count, dtype: int64"
      ]
     },
     "execution_count": 35,
     "metadata": {},
     "output_type": "execute_result"
    }
   ],
   "source": [
    "df.readmitted.value_counts()"
   ]
  },
  {
   "cell_type": "markdown",
   "id": "55f9ae00",
   "metadata": {},
   "source": [
    "#### VISUALIZATION \n",
    "#### UNIVARIATE "
   ]
  },
  {
   "cell_type": "code",
   "execution_count": 36,
   "id": "c880f927",
   "metadata": {},
   "outputs": [
    {
     "data": {
      "image/png": "[encoded data removed]",
      "text/plain": [
       "<Figure size 800x600 with 1 Axes>"
      ]
     },
     "metadata": {},
     "output_type": "display_data"
    }
   ],
   "source": [
    "# Histogram for Age distribution\n",
    "plt.figure(figsize=(8, 6))\n",
    "sns.histplot(data=df, x='age', bins=20, kde=True)\n",
    "plt.title('Distribution of Age')\n",
    "plt.xlabel('Age')\n",
    "plt.ylabel('Frequency')\n",
    "plt.grid(True)\n",
    "plt.show()"
   ]
  },
  {
   "cell_type": "code",
   "execution_count": 37,
   "id": "2550fd23",
   "metadata": {},
   "outputs": [],
   "source": [
    "# we can see that there are more number of patients are admitted in 70-80."
   ]
  },
  {
   "cell_type": "code",
   "execution_count": 38,
   "id": "5670108d",
   "metadata": {},
   "outputs": [
    {
     "data": {
      "image/png": "[encoded data removed]",
      "text/plain": [
       "<Figure size 400x400 with 1 Axes>"
      ]
     },
     "metadata": {},
     "output_type": "display_data"
    }
   ],
   "source": [
    "#checking for outliers\n",
    "plt.figure(figsize=(4,4))\n",
    "sns.boxplot(df['time_in_hospital'])\n",
    "plt.title('Time in hospital Distribution')\n",
    "plt.show()"
   ]
  },
  {
   "cell_type": "code",
   "execution_count": 39,
   "id": "646d3042",
   "metadata": {},
   "outputs": [
    {
     "data": {
      "image/png": "[encoded data removed]",
      "text/plain": [
       "<Figure size 800x600 with 1 Axes>"
      ]
     },
     "metadata": {},
     "output_type": "display_data"
    }
   ],
   "source": [
    "# Pie chart for Credit Mix\n",
    "plt.figure(figsize=(8, 6))\n",
    "df['readmitted'].value_counts().plot(kind='pie', autopct='%1.1f%%')\n",
    "plt.title('readmitted Distribution')\n",
    "plt.ylabel('')\n",
    "plt.show()"
   ]
  },
  {
   "cell_type": "code",
   "execution_count": 40,
   "id": "c3848834",
   "metadata": {},
   "outputs": [],
   "source": [
    "# Here we can see that 47% are admitted and 53% are under not admitted categories."
   ]
  },
  {
   "cell_type": "code",
   "execution_count": 41,
   "id": "76b41419",
   "metadata": {},
   "outputs": [],
   "source": [
    "# Outliers Treatments"
   ]
  },
  {
   "cell_type": "code",
   "execution_count": 42,
   "id": "ea981d69",
   "metadata": {},
   "outputs": [],
   "source": [
    "# Remove outliers\n",
    "Q1 = df.select_dtypes(np.number).quantile(0.25)\n",
    "Q3 = df.select_dtypes(np.number).quantile(0.75)\n",
    "IQR = Q3 - Q1"
   ]
  },
  {
   "cell_type": "code",
   "execution_count": 43,
   "id": "554217a0",
   "metadata": {},
   "outputs": [
    {
     "data": {
      "text/html": [
       "<div>\n",
       "<style scoped>\n",
       "    .dataframe tbody tr th:only-of-type {\n",
       "        vertical-align: middle;\n",
       "    }\n",
       "\n",
       "    .dataframe tbody tr th {\n",
       "        vertical-align: top;\n",
       "    }\n",
       "\n",
       "    .dataframe thead th {\n",
       "        text-align: right;\n",
       "    }\n",
       "</style>\n",
       "<table border=\"1\" class=\"dataframe\">\n",
       "  <thead>\n",
       "    <tr style=\"text-align: right;\">\n",
       "      <th></th>\n",
       "      <th>age</th>\n",
       "      <th>time_in_hospital</th>\n",
       "      <th>n_lab_procedures</th>\n",
       "      <th>n_procedures</th>\n",
       "      <th>n_medications</th>\n",
       "      <th>n_outpatient</th>\n",
       "      <th>n_inpatient</th>\n",
       "      <th>n_emergency</th>\n",
       "      <th>medical_specialty</th>\n",
       "      <th>diag_1</th>\n",
       "      <th>diag_2</th>\n",
       "      <th>diag_3</th>\n",
       "      <th>glucose_test</th>\n",
       "      <th>A1Ctest</th>\n",
       "      <th>change</th>\n",
       "      <th>diabetes_med</th>\n",
       "      <th>readmitted</th>\n",
       "    </tr>\n",
       "  </thead>\n",
       "  <tbody>\n",
       "    <tr>\n",
       "      <th>1</th>\n",
       "      <td>[70-80)</td>\n",
       "      <td>3</td>\n",
       "      <td>34</td>\n",
       "      <td>2</td>\n",
       "      <td>13</td>\n",
       "      <td>0</td>\n",
       "      <td>0</td>\n",
       "      <td>0</td>\n",
       "      <td>Other</td>\n",
       "      <td>Other</td>\n",
       "      <td>Other</td>\n",
       "      <td>Other</td>\n",
       "      <td>no</td>\n",
       "      <td>no</td>\n",
       "      <td>no</td>\n",
       "      <td>yes</td>\n",
       "      <td>no</td>\n",
       "    </tr>\n",
       "    <tr>\n",
       "      <th>2</th>\n",
       "      <td>[50-60)</td>\n",
       "      <td>5</td>\n",
       "      <td>45</td>\n",
       "      <td>0</td>\n",
       "      <td>18</td>\n",
       "      <td>0</td>\n",
       "      <td>0</td>\n",
       "      <td>0</td>\n",
       "      <td>Missing</td>\n",
       "      <td>Circulatory</td>\n",
       "      <td>Circulatory</td>\n",
       "      <td>Circulatory</td>\n",
       "      <td>no</td>\n",
       "      <td>no</td>\n",
       "      <td>yes</td>\n",
       "      <td>yes</td>\n",
       "      <td>yes</td>\n",
       "    </tr>\n",
       "    <tr>\n",
       "      <th>4</th>\n",
       "      <td>[60-70)</td>\n",
       "      <td>1</td>\n",
       "      <td>42</td>\n",
       "      <td>0</td>\n",
       "      <td>7</td>\n",
       "      <td>0</td>\n",
       "      <td>0</td>\n",
       "      <td>0</td>\n",
       "      <td>InternalMedicine</td>\n",
       "      <td>Other</td>\n",
       "      <td>Circulatory</td>\n",
       "      <td>Respiratory</td>\n",
       "      <td>no</td>\n",
       "      <td>no</td>\n",
       "      <td>no</td>\n",
       "      <td>yes</td>\n",
       "      <td>no</td>\n",
       "    </tr>\n",
       "    <tr>\n",
       "      <th>5</th>\n",
       "      <td>[40-50)</td>\n",
       "      <td>2</td>\n",
       "      <td>51</td>\n",
       "      <td>0</td>\n",
       "      <td>10</td>\n",
       "      <td>0</td>\n",
       "      <td>0</td>\n",
       "      <td>0</td>\n",
       "      <td>Missing</td>\n",
       "      <td>Other</td>\n",
       "      <td>Other</td>\n",
       "      <td>Other</td>\n",
       "      <td>no</td>\n",
       "      <td>no</td>\n",
       "      <td>no</td>\n",
       "      <td>no</td>\n",
       "      <td>yes</td>\n",
       "    </tr>\n",
       "    <tr>\n",
       "      <th>6</th>\n",
       "      <td>[50-60)</td>\n",
       "      <td>4</td>\n",
       "      <td>44</td>\n",
       "      <td>2</td>\n",
       "      <td>21</td>\n",
       "      <td>0</td>\n",
       "      <td>0</td>\n",
       "      <td>0</td>\n",
       "      <td>Missing</td>\n",
       "      <td>Injury</td>\n",
       "      <td>Other</td>\n",
       "      <td>Other</td>\n",
       "      <td>no</td>\n",
       "      <td>normal</td>\n",
       "      <td>yes</td>\n",
       "      <td>yes</td>\n",
       "      <td>no</td>\n",
       "    </tr>\n",
       "    <tr>\n",
       "      <th>...</th>\n",
       "      <td>...</td>\n",
       "      <td>...</td>\n",
       "      <td>...</td>\n",
       "      <td>...</td>\n",
       "      <td>...</td>\n",
       "      <td>...</td>\n",
       "      <td>...</td>\n",
       "      <td>...</td>\n",
       "      <td>...</td>\n",
       "      <td>...</td>\n",
       "      <td>...</td>\n",
       "      <td>...</td>\n",
       "      <td>...</td>\n",
       "      <td>...</td>\n",
       "      <td>...</td>\n",
       "      <td>...</td>\n",
       "      <td>...</td>\n",
       "    </tr>\n",
       "    <tr>\n",
       "      <th>24994</th>\n",
       "      <td>[60-70)</td>\n",
       "      <td>2</td>\n",
       "      <td>61</td>\n",
       "      <td>4</td>\n",
       "      <td>11</td>\n",
       "      <td>0</td>\n",
       "      <td>0</td>\n",
       "      <td>0</td>\n",
       "      <td>Missing</td>\n",
       "      <td>Circulatory</td>\n",
       "      <td>Circulatory</td>\n",
       "      <td>Circulatory</td>\n",
       "      <td>no</td>\n",
       "      <td>no</td>\n",
       "      <td>yes</td>\n",
       "      <td>yes</td>\n",
       "      <td>no</td>\n",
       "    </tr>\n",
       "    <tr>\n",
       "      <th>24996</th>\n",
       "      <td>[80-90)</td>\n",
       "      <td>2</td>\n",
       "      <td>66</td>\n",
       "      <td>0</td>\n",
       "      <td>24</td>\n",
       "      <td>0</td>\n",
       "      <td>0</td>\n",
       "      <td>0</td>\n",
       "      <td>Missing</td>\n",
       "      <td>Digestive</td>\n",
       "      <td>Injury</td>\n",
       "      <td>Other</td>\n",
       "      <td>no</td>\n",
       "      <td>high</td>\n",
       "      <td>yes</td>\n",
       "      <td>yes</td>\n",
       "      <td>yes</td>\n",
       "    </tr>\n",
       "    <tr>\n",
       "      <th>24997</th>\n",
       "      <td>[70-80)</td>\n",
       "      <td>5</td>\n",
       "      <td>12</td>\n",
       "      <td>0</td>\n",
       "      <td>6</td>\n",
       "      <td>0</td>\n",
       "      <td>1</td>\n",
       "      <td>0</td>\n",
       "      <td>Missing</td>\n",
       "      <td>Other</td>\n",
       "      <td>Other</td>\n",
       "      <td>Other</td>\n",
       "      <td>normal</td>\n",
       "      <td>no</td>\n",
       "      <td>no</td>\n",
       "      <td>no</td>\n",
       "      <td>yes</td>\n",
       "    </tr>\n",
       "    <tr>\n",
       "      <th>24998</th>\n",
       "      <td>[70-80)</td>\n",
       "      <td>2</td>\n",
       "      <td>61</td>\n",
       "      <td>3</td>\n",
       "      <td>15</td>\n",
       "      <td>0</td>\n",
       "      <td>0</td>\n",
       "      <td>0</td>\n",
       "      <td>Family/GeneralPractice</td>\n",
       "      <td>Respiratory</td>\n",
       "      <td>Diabetes</td>\n",
       "      <td>Other</td>\n",
       "      <td>no</td>\n",
       "      <td>no</td>\n",
       "      <td>yes</td>\n",
       "      <td>yes</td>\n",
       "      <td>no</td>\n",
       "    </tr>\n",
       "    <tr>\n",
       "      <th>24999</th>\n",
       "      <td>[50-60)</td>\n",
       "      <td>10</td>\n",
       "      <td>37</td>\n",
       "      <td>1</td>\n",
       "      <td>24</td>\n",
       "      <td>0</td>\n",
       "      <td>0</td>\n",
       "      <td>0</td>\n",
       "      <td>Missing</td>\n",
       "      <td>Other</td>\n",
       "      <td>Diabetes</td>\n",
       "      <td>Circulatory</td>\n",
       "      <td>no</td>\n",
       "      <td>no</td>\n",
       "      <td>no</td>\n",
       "      <td>no</td>\n",
       "      <td>yes</td>\n",
       "    </tr>\n",
       "  </tbody>\n",
       "</table>\n",
       "<p>16506 rows × 17 columns</p>\n",
       "</div>"
      ],
      "text/plain": [
       "           age  time_in_hospital  n_lab_procedures  n_procedures  \\\n",
       "1      [70-80)                 3                34             2   \n",
       "2      [50-60)                 5                45             0   \n",
       "4      [60-70)                 1                42             0   \n",
       "5      [40-50)                 2                51             0   \n",
       "6      [50-60)                 4                44             2   \n",
       "...        ...               ...               ...           ...   \n",
       "24994  [60-70)                 2                61             4   \n",
       "24996  [80-90)                 2                66             0   \n",
       "24997  [70-80)                 5                12             0   \n",
       "24998  [70-80)                 2                61             3   \n",
       "24999  [50-60)                10                37             1   \n",
       "\n",
       "       n_medications  n_outpatient  n_inpatient  n_emergency  \\\n",
       "1                 13             0            0            0   \n",
       "2                 18             0            0            0   \n",
       "4                  7             0            0            0   \n",
       "5                 10             0            0            0   \n",
       "6                 21             0            0            0   \n",
       "...              ...           ...          ...          ...   \n",
       "24994             11             0            0            0   \n",
       "24996             24             0            0            0   \n",
       "24997              6             0            1            0   \n",
       "24998             15             0            0            0   \n",
       "24999             24             0            0            0   \n",
       "\n",
       "            medical_specialty       diag_1       diag_2       diag_3  \\\n",
       "1                       Other        Other        Other        Other   \n",
       "2                     Missing  Circulatory  Circulatory  Circulatory   \n",
       "4            InternalMedicine        Other  Circulatory  Respiratory   \n",
       "5                     Missing        Other        Other        Other   \n",
       "6                     Missing       Injury        Other        Other   \n",
       "...                       ...          ...          ...          ...   \n",
       "24994                 Missing  Circulatory  Circulatory  Circulatory   \n",
       "24996                 Missing    Digestive       Injury        Other   \n",
       "24997                 Missing        Other        Other        Other   \n",
       "24998  Family/GeneralPractice  Respiratory     Diabetes        Other   \n",
       "24999                 Missing        Other     Diabetes  Circulatory   \n",
       "\n",
       "      glucose_test A1Ctest change diabetes_med readmitted  \n",
       "1               no      no     no          yes         no  \n",
       "2               no      no    yes          yes        yes  \n",
       "4               no      no     no          yes         no  \n",
       "5               no      no     no           no        yes  \n",
       "6               no  normal    yes          yes         no  \n",
       "...            ...     ...    ...          ...        ...  \n",
       "24994           no      no    yes          yes         no  \n",
       "24996           no    high    yes          yes        yes  \n",
       "24997       normal      no     no           no        yes  \n",
       "24998           no      no    yes          yes         no  \n",
       "24999           no      no     no           no        yes  \n",
       "\n",
       "[16506 rows x 17 columns]"
      ]
     },
     "execution_count": 43,
     "metadata": {},
     "output_type": "execute_result"
    }
   ],
   "source": [
    "df[~((df.select_dtypes(np.number) < (Q1 - 1.5 * IQR)) | (df.select_dtypes(np.number) > (Q3 + 1.5 * IQR))).any(axis=1)]"
   ]
  },
  {
   "cell_type": "code",
   "execution_count": 44,
   "id": "7d5845c6",
   "metadata": {},
   "outputs": [
    {
     "data": {
      "image/png": "[encoded data removed]",
      "text/plain": [
       "<Figure size 4800x6000 with 7 Axes>"
      ]
     },
     "metadata": {},
     "output_type": "display_data"
    }
   ],
   "source": [
    "# box plot for all numberical columns for Visualize the outliers\n",
    "plt.figure(figsize= [48,60])\n",
    "t = 1\n",
    "for i in df.select_dtypes(np.number).columns:\n",
    "    plt.subplot(4 , 5,t)\n",
    "    sns.boxplot(df[i])\n",
    "    plt.title(i)\n",
    "    t = t + 1\n",
    "plt.tight_layout()\n",
    "plt.savefig('box plot for numerical variables.png')\n",
    "plt.show()"
   ]
  },
  {
   "cell_type": "code",
   "execution_count": 45,
   "id": "ab800021",
   "metadata": {},
   "outputs": [],
   "source": [
    "# Statistical Analysis "
   ]
  },
  {
   "cell_type": "code",
   "execution_count": 46,
   "id": "30f7f891",
   "metadata": {},
   "outputs": [
    {
     "data": {
      "text/html": [
       "<div>\n",
       "<style scoped>\n",
       "    .dataframe tbody tr th:only-of-type {\n",
       "        vertical-align: middle;\n",
       "    }\n",
       "\n",
       "    .dataframe tbody tr th {\n",
       "        vertical-align: top;\n",
       "    }\n",
       "\n",
       "    .dataframe thead th {\n",
       "        text-align: right;\n",
       "    }\n",
       "</style>\n",
       "<table border=\"1\" class=\"dataframe\">\n",
       "  <thead>\n",
       "    <tr style=\"text-align: right;\">\n",
       "      <th></th>\n",
       "      <th>time_in_hospital</th>\n",
       "      <th>n_lab_procedures</th>\n",
       "      <th>n_procedures</th>\n",
       "      <th>n_medications</th>\n",
       "      <th>n_outpatient</th>\n",
       "      <th>n_inpatient</th>\n",
       "      <th>n_emergency</th>\n",
       "    </tr>\n",
       "  </thead>\n",
       "  <tbody>\n",
       "    <tr>\n",
       "      <th>count</th>\n",
       "      <td>25000.00000</td>\n",
       "      <td>25000.00000</td>\n",
       "      <td>25000.000000</td>\n",
       "      <td>25000.000000</td>\n",
       "      <td>25000.000000</td>\n",
       "      <td>25000.000000</td>\n",
       "      <td>25000.000000</td>\n",
       "    </tr>\n",
       "    <tr>\n",
       "      <th>mean</th>\n",
       "      <td>4.45332</td>\n",
       "      <td>43.24076</td>\n",
       "      <td>1.352360</td>\n",
       "      <td>16.252400</td>\n",
       "      <td>0.366400</td>\n",
       "      <td>0.615960</td>\n",
       "      <td>0.186600</td>\n",
       "    </tr>\n",
       "    <tr>\n",
       "      <th>std</th>\n",
       "      <td>3.00147</td>\n",
       "      <td>19.81862</td>\n",
       "      <td>1.715179</td>\n",
       "      <td>8.060532</td>\n",
       "      <td>1.195478</td>\n",
       "      <td>1.177951</td>\n",
       "      <td>0.885873</td>\n",
       "    </tr>\n",
       "    <tr>\n",
       "      <th>min</th>\n",
       "      <td>1.00000</td>\n",
       "      <td>1.00000</td>\n",
       "      <td>0.000000</td>\n",
       "      <td>1.000000</td>\n",
       "      <td>0.000000</td>\n",
       "      <td>0.000000</td>\n",
       "      <td>0.000000</td>\n",
       "    </tr>\n",
       "    <tr>\n",
       "      <th>25%</th>\n",
       "      <td>2.00000</td>\n",
       "      <td>31.00000</td>\n",
       "      <td>0.000000</td>\n",
       "      <td>11.000000</td>\n",
       "      <td>0.000000</td>\n",
       "      <td>0.000000</td>\n",
       "      <td>0.000000</td>\n",
       "    </tr>\n",
       "    <tr>\n",
       "      <th>50%</th>\n",
       "      <td>4.00000</td>\n",
       "      <td>44.00000</td>\n",
       "      <td>1.000000</td>\n",
       "      <td>15.000000</td>\n",
       "      <td>0.000000</td>\n",
       "      <td>0.000000</td>\n",
       "      <td>0.000000</td>\n",
       "    </tr>\n",
       "    <tr>\n",
       "      <th>75%</th>\n",
       "      <td>6.00000</td>\n",
       "      <td>57.00000</td>\n",
       "      <td>2.000000</td>\n",
       "      <td>20.000000</td>\n",
       "      <td>0.000000</td>\n",
       "      <td>1.000000</td>\n",
       "      <td>0.000000</td>\n",
       "    </tr>\n",
       "    <tr>\n",
       "      <th>max</th>\n",
       "      <td>14.00000</td>\n",
       "      <td>113.00000</td>\n",
       "      <td>6.000000</td>\n",
       "      <td>79.000000</td>\n",
       "      <td>33.000000</td>\n",
       "      <td>15.000000</td>\n",
       "      <td>64.000000</td>\n",
       "    </tr>\n",
       "  </tbody>\n",
       "</table>\n",
       "</div>"
      ],
      "text/plain": [
       "       time_in_hospital  n_lab_procedures  n_procedures  n_medications  \\\n",
       "count       25000.00000       25000.00000  25000.000000   25000.000000   \n",
       "mean            4.45332          43.24076      1.352360      16.252400   \n",
       "std             3.00147          19.81862      1.715179       8.060532   \n",
       "min             1.00000           1.00000      0.000000       1.000000   \n",
       "25%             2.00000          31.00000      0.000000      11.000000   \n",
       "50%             4.00000          44.00000      1.000000      15.000000   \n",
       "75%             6.00000          57.00000      2.000000      20.000000   \n",
       "max            14.00000         113.00000      6.000000      79.000000   \n",
       "\n",
       "       n_outpatient   n_inpatient   n_emergency  \n",
       "count  25000.000000  25000.000000  25000.000000  \n",
       "mean       0.366400      0.615960      0.186600  \n",
       "std        1.195478      1.177951      0.885873  \n",
       "min        0.000000      0.000000      0.000000  \n",
       "25%        0.000000      0.000000      0.000000  \n",
       "50%        0.000000      0.000000      0.000000  \n",
       "75%        0.000000      1.000000      0.000000  \n",
       "max       33.000000     15.000000     64.000000  "
      ]
     },
     "execution_count": 46,
     "metadata": {},
     "output_type": "execute_result"
    }
   ],
   "source": [
    "df.describe()"
   ]
  },
  {
   "cell_type": "code",
   "execution_count": 47,
   "id": "7c09ec73",
   "metadata": {},
   "outputs": [
    {
     "data": {
      "text/html": [
       "<div>\n",
       "<style scoped>\n",
       "    .dataframe tbody tr th:only-of-type {\n",
       "        vertical-align: middle;\n",
       "    }\n",
       "\n",
       "    .dataframe tbody tr th {\n",
       "        vertical-align: top;\n",
       "    }\n",
       "\n",
       "    .dataframe thead th {\n",
       "        text-align: right;\n",
       "    }\n",
       "</style>\n",
       "<table border=\"1\" class=\"dataframe\">\n",
       "  <thead>\n",
       "    <tr style=\"text-align: right;\">\n",
       "      <th></th>\n",
       "      <th>age</th>\n",
       "      <th>medical_specialty</th>\n",
       "      <th>diag_1</th>\n",
       "      <th>diag_2</th>\n",
       "      <th>diag_3</th>\n",
       "      <th>glucose_test</th>\n",
       "      <th>A1Ctest</th>\n",
       "      <th>change</th>\n",
       "      <th>diabetes_med</th>\n",
       "      <th>readmitted</th>\n",
       "    </tr>\n",
       "  </thead>\n",
       "  <tbody>\n",
       "    <tr>\n",
       "      <th>count</th>\n",
       "      <td>25000</td>\n",
       "      <td>25000</td>\n",
       "      <td>25000</td>\n",
       "      <td>25000</td>\n",
       "      <td>25000</td>\n",
       "      <td>25000</td>\n",
       "      <td>25000</td>\n",
       "      <td>25000</td>\n",
       "      <td>25000</td>\n",
       "      <td>25000</td>\n",
       "    </tr>\n",
       "    <tr>\n",
       "      <th>unique</th>\n",
       "      <td>6</td>\n",
       "      <td>7</td>\n",
       "      <td>8</td>\n",
       "      <td>8</td>\n",
       "      <td>8</td>\n",
       "      <td>3</td>\n",
       "      <td>3</td>\n",
       "      <td>2</td>\n",
       "      <td>2</td>\n",
       "      <td>2</td>\n",
       "    </tr>\n",
       "    <tr>\n",
       "      <th>top</th>\n",
       "      <td>[70-80)</td>\n",
       "      <td>Missing</td>\n",
       "      <td>Circulatory</td>\n",
       "      <td>Other</td>\n",
       "      <td>Other</td>\n",
       "      <td>no</td>\n",
       "      <td>no</td>\n",
       "      <td>no</td>\n",
       "      <td>yes</td>\n",
       "      <td>no</td>\n",
       "    </tr>\n",
       "    <tr>\n",
       "      <th>freq</th>\n",
       "      <td>6837</td>\n",
       "      <td>12382</td>\n",
       "      <td>7824</td>\n",
       "      <td>9056</td>\n",
       "      <td>9107</td>\n",
       "      <td>23625</td>\n",
       "      <td>20938</td>\n",
       "      <td>13497</td>\n",
       "      <td>19228</td>\n",
       "      <td>13246</td>\n",
       "    </tr>\n",
       "  </tbody>\n",
       "</table>\n",
       "</div>"
      ],
      "text/plain": [
       "            age medical_specialty       diag_1 diag_2 diag_3 glucose_test  \\\n",
       "count     25000             25000        25000  25000  25000        25000   \n",
       "unique        6                 7            8      8      8            3   \n",
       "top     [70-80)           Missing  Circulatory  Other  Other           no   \n",
       "freq       6837             12382         7824   9056   9107        23625   \n",
       "\n",
       "       A1Ctest change diabetes_med readmitted  \n",
       "count    25000  25000        25000      25000  \n",
       "unique       3      2            2          2  \n",
       "top         no     no          yes         no  \n",
       "freq     20938  13497        19228      13246  "
      ]
     },
     "execution_count": 47,
     "metadata": {},
     "output_type": "execute_result"
    }
   ],
   "source": [
    "df.describe(include= 'object')"
   ]
  },
  {
   "cell_type": "code",
   "execution_count": 48,
   "id": "a585a6ec",
   "metadata": {},
   "outputs": [],
   "source": [
    "# Skewness"
   ]
  },
  {
   "cell_type": "code",
   "execution_count": 49,
   "id": "0ba396e6",
   "metadata": {},
   "outputs": [
    {
     "data": {
      "text/plain": [
       "time_in_hospital     1.108905\n",
       "n_lab_procedures    -0.238672\n",
       "n_procedures         1.300572\n",
       "n_medications        1.316139\n",
       "n_outpatient         7.302605\n",
       "n_inpatient          3.254634\n",
       "n_emergency         24.530152\n",
       "dtype: float64"
      ]
     },
     "execution_count": 49,
     "metadata": {},
     "output_type": "execute_result"
    }
   ],
   "source": [
    "df.skew(numeric_only=True)"
   ]
  },
  {
   "cell_type": "code",
   "execution_count": 50,
   "id": "9d1684af",
   "metadata": {},
   "outputs": [],
   "source": [
    "# Kurtosis"
   ]
  },
  {
   "cell_type": "code",
   "execution_count": 51,
   "id": "e21f9acc",
   "metadata": {},
   "outputs": [
    {
     "data": {
      "text/plain": [
       "time_in_hospital       0.800598\n",
       "n_lab_procedures      -0.297922\n",
       "n_procedures           0.795567\n",
       "n_medications          3.476595\n",
       "n_outpatient          95.925322\n",
       "n_inpatient           16.454233\n",
       "n_emergency         1310.593302\n",
       "dtype: float64"
      ]
     },
     "execution_count": 51,
     "metadata": {},
     "output_type": "execute_result"
    }
   ],
   "source": [
    "df.kurtosis(numeric_only=True)"
   ]
  },
  {
   "cell_type": "code",
   "execution_count": 52,
   "id": "1aec3b4b",
   "metadata": {},
   "outputs": [],
   "source": [
    "# Hypothesis Testing"
   ]
  },
  {
   "cell_type": "code",
   "execution_count": 53,
   "id": "092c1523",
   "metadata": {},
   "outputs": [
    {
     "name": "stdout",
     "output_type": "stream",
     "text": [
      "Shapiro test p-value for column 'time_in_hospital' is 0.0, which is less than 0.05, reject the null hypothesis.\n",
      "Shapiro test p-value for column 'n_lab_procedures' is 2.2420775429197073e-44, which is less than 0.05, reject the null hypothesis.\n",
      "Shapiro test p-value for column 'n_procedures' is 0.0, which is less than 0.05, reject the null hypothesis.\n",
      "Shapiro test p-value for column 'n_medications' is 0.0, which is less than 0.05, reject the null hypothesis.\n",
      "Shapiro test p-value for column 'n_outpatient' is 0.0, which is less than 0.05, reject the null hypothesis.\n",
      "Shapiro test p-value for column 'n_inpatient' is 0.0, which is less than 0.05, reject the null hypothesis.\n",
      "Shapiro test p-value for column 'n_emergency' is 0.0, which is less than 0.05, reject the null hypothesis.\n"
     ]
    }
   ],
   "source": [
    "# Normality testing\n",
    "shapiro_results = {}\n",
    "\n",
    "# Loop through columns and perform Shapiro test for float and integer columns\n",
    "for col in df.columns:\n",
    "    if df[col].dtype in ['float64', 'int64']:\n",
    "        _, p_value = shapiro(df[col])\n",
    "        shapiro_results[col] = p_value\n",
    "\n",
    "# Set significance level\n",
    "alpha = 0.05\n",
    "\n",
    "# Print the Shapiro test results and make inferences\n",
    "for col, p_value in shapiro_results.items():\n",
    "    if p_value < alpha:\n",
    "        print(f\"Shapiro test p-value for column '{col}' is {p_value}, which is less than {alpha}, reject the null hypothesis.\")\n",
    "    else:\n",
    "        print(f\"Shapiro test p-value for column '{col}' is {p_value}, which is greater than or equal to {alpha}, fail to reject the null hypothesis.\")"
   ]
  },
  {
   "cell_type": "code",
   "execution_count": 54,
   "id": "6e72709d",
   "metadata": {},
   "outputs": [],
   "source": [
    "# Variable Testing"
   ]
  },
  {
   "cell_type": "code",
   "execution_count": 55,
   "id": "feb84a81",
   "metadata": {},
   "outputs": [
    {
     "name": "stdout",
     "output_type": "stream",
     "text": [
      "Levene test p-value for column 'time_in_hospital' is 0.9659469298537522, which is greater than or equal to 0.05, fail to reject the null hypothesis.\n",
      "Levene test p-value for column 'n_lab_procedures' is 0.0007114006125473161, which is less than 0.05, reject the null hypothesis.\n",
      "Levene test p-value for column 'n_procedures' is 6.8222933513952595e-06, which is less than 0.05, reject the null hypothesis.\n",
      "Levene test p-value for column 'n_medications' is 5.710451549940137e-11, which is less than 0.05, reject the null hypothesis.\n",
      "Levene test p-value for column 'n_outpatient' is 1.0017945633931328e-51, which is less than 0.05, reject the null hypothesis.\n",
      "Levene test p-value for column 'n_inpatient' is 3.948076436527227e-253, which is less than 0.05, reject the null hypothesis.\n",
      "Levene test p-value for column 'n_emergency' is 1.115308514556303e-49, which is less than 0.05, reject the null hypothesis.\n"
     ]
    }
   ],
   "source": [
    "numerical_data = df.select_dtypes(include= np.number)\n",
    "\n",
    "levene_results = {}\n",
    "\n",
    "# Loop through columns and perform Levene test for float and integer columns\n",
    "for col in numerical_data.columns:\n",
    "    # Perform the Levene test\n",
    "    statistic, p_value = levene(\n",
    "        numerical_data[df['readmitted'] == 'yes'][col],\n",
    "        numerical_data[df['readmitted'] == 'no'][col]\n",
    "    )\n",
    "    \n",
    "    levene_results[col] = p_value\n",
    "\n",
    "# Set significance level\n",
    "alpha = 0.05\n",
    "\n",
    "# Print the Levene test results and make inferences\n",
    "for col, p_value in levene_results.items():\n",
    "    if p_value < alpha:\n",
    "        print(f\"Levene test p-value for column '{col}' is {p_value}, which is less than {alpha}, reject the null hypothesis.\")\n",
    "    else:\n",
    "        print(f\"Levene test p-value for column '{col}' is {p_value}, which is greater than or equal to {alpha}, fail to reject the null hypothesis.\")"
   ]
  },
  {
   "cell_type": "code",
   "execution_count": 56,
   "id": "fb837e48",
   "metadata": {},
   "outputs": [
    {
     "name": "stdout",
     "output_type": "stream",
     "text": [
      "Chi-square test p-value for column 'age' is 2.4528660957495622e-09, which is less than 0.05, reject the null hypothesis.\n",
      "Chi-square test p-value for column 'medical_specialty' is 2.5857749465869964e-16, which is less than 0.05, reject the null hypothesis.\n",
      "Chi-square test p-value for column 'diag_1' is 1.3681098778977244e-15, which is less than 0.05, reject the null hypothesis.\n",
      "Chi-square test p-value for column 'diag_2' is 2.4951558937146264e-05, which is less than 0.05, reject the null hypothesis.\n",
      "Chi-square test p-value for column 'diag_3' is 9.633360544317969e-08, which is less than 0.05, reject the null hypothesis.\n",
      "Chi-square test p-value for column 'glucose_test' is 0.020721002208701204, which is less than 0.05, reject the null hypothesis.\n",
      "Chi-square test p-value for column 'A1Ctest' is 0.0006033470652361825, which is less than 0.05, reject the null hypothesis.\n",
      "Chi-square test p-value for column 'change' is 9.098887998980001e-12, which is less than 0.05, reject the null hypothesis.\n",
      "Chi-square test p-value for column 'diabetes_med' is 1.0096710996814763e-22, which is less than 0.05, reject the null hypothesis.\n",
      "Chi-square test p-value for column 'readmitted' is 0.0, which is less than 0.05, reject the null hypothesis.\n"
     ]
    }
   ],
   "source": [
    "# Assuming 'readmitted' is your target variable\n",
    "\n",
    "# List of categorical columns\n",
    "categorical_columns = df.select_dtypes(exclude= np.number).columns\n",
    "\n",
    "# Perform chi-square test for each categorical variable\n",
    "chi2_results = {}\n",
    "\n",
    "for col in categorical_columns:\n",
    "    contingency_table = pd.crosstab(df[col], df['readmitted'])\n",
    "    chi2_stat, p_value, _, _ = chi2_contingency(contingency_table)\n",
    "    chi2_results[col] = {'chi2_statistic': chi2_stat, 'p_value': p_value}\n",
    "\n",
    "# Set significance level\n",
    "alpha = 0.05\n",
    "\n",
    "# Print chi-square test results and make inferences\n",
    "for col, result in chi2_results.items():\n",
    "    if result['p_value'] < alpha:\n",
    "        print(f\"Chi-square test p-value for column '{col}' is {result['p_value']}, which is less than {alpha}, reject the null hypothesis.\")\n",
    "    else:\n",
    "        print(f\"Chi-square test p-value for column '{col}' is {result['p_value']}, which is greater than or equal to {alpha}, fail to reject the null hypothesis.\")"
   ]
  },
  {
   "cell_type": "code",
   "execution_count": 57,
   "id": "3e212d64",
   "metadata": {},
   "outputs": [
    {
     "name": "stdout",
     "output_type": "stream",
     "text": [
      "ANOVA test p-value for column 'time_in_hospital' is 8.848708096976317e-12, which is less than 0.05, reject the null hypothesis.\n",
      "ANOVA test p-value for column 'n_lab_procedures' is 1.845898010274483e-07, which is less than 0.05, reject the null hypothesis.\n",
      "ANOVA test p-value for column 'n_procedures' is 2.007614882997321e-12, which is less than 0.05, reject the null hypothesis.\n",
      "ANOVA test p-value for column 'n_medications' is 5.493483833722488e-09, which is less than 0.05, reject the null hypothesis.\n",
      "ANOVA test p-value for column 'n_outpatient' is 1.0017945633931328e-51, which is less than 0.05, reject the null hypothesis.\n",
      "ANOVA test p-value for column 'n_inpatient' is 3.948076436527227e-253, which is less than 0.05, reject the null hypothesis.\n",
      "ANOVA test p-value for column 'n_emergency' is 1.115308514556303e-49, which is less than 0.05, reject the null hypothesis.\n"
     ]
    }
   ],
   "source": [
    "# numerical Data\n",
    "numerical_data = df.select_dtypes(include= np.number)\n",
    "\n",
    "# Define a dictionary to store the ANOVA results for each numerical column\n",
    "anova_results = {}\n",
    "\n",
    "# Perform ANOVA test for each numerical column\n",
    "for col in numerical_data.columns:\n",
    "    # Perform the ANOVA test\n",
    "    statistic, p_value = f_oneway(\n",
    "        numerical_data[df['readmitted'] == 'yes'][col],\n",
    "        numerical_data[df['readmitted'] == 'no'][col]\n",
    "    )\n",
    "    \n",
    "    # Store the p-value in the dictionary\n",
    "    anova_results[col] = p_value\n",
    "\n",
    "# Set significance level\n",
    "alpha = 0.05\n",
    "\n",
    "# Print the ANOVA test results and make inferences\n",
    "for col, p_value in anova_results.items():\n",
    "    if p_value < alpha:\n",
    "        print(f\"ANOVA test p-value for column '{col}' is {p_value}, which is less than {alpha}, reject the null hypothesis.\")\n",
    "    else:\n",
    "        print(f\"ANOVA test p-value for column '{col}' is {p_value}, which is greater than or equal to {alpha}, fail to reject the null hypothesis.\")"
   ]
  },
  {
   "cell_type": "markdown",
   "id": "0ff310b3",
   "metadata": {},
   "source": [
    "##### All the statistical tests namely, shapiro, levene,ANOVA,chi_square are failing our assumption, so we can say that our independent variables are significant to our target variables."
   ]
  },
  {
   "cell_type": "code",
   "execution_count": 58,
   "id": "137b245a",
   "metadata": {},
   "outputs": [],
   "source": [
    "# Model Building"
   ]
  },
  {
   "cell_type": "code",
   "execution_count": 59,
   "id": "e8577442",
   "metadata": {},
   "outputs": [],
   "source": [
    "# Create an empty DataFrame to store F1 scores\n",
    "f1_df = pd.DataFrame(columns=['Model', 'F1-score'])"
   ]
  },
  {
   "cell_type": "code",
   "execution_count": 60,
   "id": "0e37e238",
   "metadata": {},
   "outputs": [
    {
     "name": "stdout",
     "output_type": "stream",
     "text": [
      "after Encoded target variable:\n"
     ]
    },
    {
     "data": {
      "text/html": [
       "<div>\n",
       "<style scoped>\n",
       "    .dataframe tbody tr th:only-of-type {\n",
       "        vertical-align: middle;\n",
       "    }\n",
       "\n",
       "    .dataframe tbody tr th {\n",
       "        vertical-align: top;\n",
       "    }\n",
       "\n",
       "    .dataframe thead th {\n",
       "        text-align: right;\n",
       "    }\n",
       "</style>\n",
       "<table border=\"1\" class=\"dataframe\">\n",
       "  <thead>\n",
       "    <tr style=\"text-align: right;\">\n",
       "      <th></th>\n",
       "      <th>age</th>\n",
       "      <th>time_in_hospital</th>\n",
       "      <th>n_lab_procedures</th>\n",
       "      <th>n_procedures</th>\n",
       "      <th>n_medications</th>\n",
       "      <th>n_outpatient</th>\n",
       "      <th>n_inpatient</th>\n",
       "      <th>n_emergency</th>\n",
       "      <th>medical_specialty</th>\n",
       "      <th>diag_1</th>\n",
       "      <th>diag_2</th>\n",
       "      <th>diag_3</th>\n",
       "      <th>glucose_test</th>\n",
       "      <th>A1Ctest</th>\n",
       "      <th>change</th>\n",
       "      <th>diabetes_med</th>\n",
       "      <th>readmitted</th>\n",
       "    </tr>\n",
       "  </thead>\n",
       "  <tbody>\n",
       "    <tr>\n",
       "      <th>0</th>\n",
       "      <td>[70-80)</td>\n",
       "      <td>8</td>\n",
       "      <td>72</td>\n",
       "      <td>1</td>\n",
       "      <td>18</td>\n",
       "      <td>2</td>\n",
       "      <td>0</td>\n",
       "      <td>0</td>\n",
       "      <td>Missing</td>\n",
       "      <td>Circulatory</td>\n",
       "      <td>Respiratory</td>\n",
       "      <td>Other</td>\n",
       "      <td>no</td>\n",
       "      <td>no</td>\n",
       "      <td>no</td>\n",
       "      <td>yes</td>\n",
       "      <td>2</td>\n",
       "    </tr>\n",
       "    <tr>\n",
       "      <th>1</th>\n",
       "      <td>[70-80)</td>\n",
       "      <td>3</td>\n",
       "      <td>34</td>\n",
       "      <td>2</td>\n",
       "      <td>13</td>\n",
       "      <td>0</td>\n",
       "      <td>0</td>\n",
       "      <td>0</td>\n",
       "      <td>Other</td>\n",
       "      <td>Other</td>\n",
       "      <td>Other</td>\n",
       "      <td>Other</td>\n",
       "      <td>no</td>\n",
       "      <td>no</td>\n",
       "      <td>no</td>\n",
       "      <td>yes</td>\n",
       "      <td>2</td>\n",
       "    </tr>\n",
       "    <tr>\n",
       "      <th>2</th>\n",
       "      <td>[50-60)</td>\n",
       "      <td>5</td>\n",
       "      <td>45</td>\n",
       "      <td>0</td>\n",
       "      <td>18</td>\n",
       "      <td>0</td>\n",
       "      <td>0</td>\n",
       "      <td>0</td>\n",
       "      <td>Missing</td>\n",
       "      <td>Circulatory</td>\n",
       "      <td>Circulatory</td>\n",
       "      <td>Circulatory</td>\n",
       "      <td>no</td>\n",
       "      <td>no</td>\n",
       "      <td>yes</td>\n",
       "      <td>yes</td>\n",
       "      <td>1</td>\n",
       "    </tr>\n",
       "    <tr>\n",
       "      <th>3</th>\n",
       "      <td>[70-80)</td>\n",
       "      <td>2</td>\n",
       "      <td>36</td>\n",
       "      <td>0</td>\n",
       "      <td>12</td>\n",
       "      <td>1</td>\n",
       "      <td>0</td>\n",
       "      <td>0</td>\n",
       "      <td>Missing</td>\n",
       "      <td>Circulatory</td>\n",
       "      <td>Other</td>\n",
       "      <td>Diabetes</td>\n",
       "      <td>no</td>\n",
       "      <td>no</td>\n",
       "      <td>yes</td>\n",
       "      <td>yes</td>\n",
       "      <td>1</td>\n",
       "    </tr>\n",
       "    <tr>\n",
       "      <th>4</th>\n",
       "      <td>[60-70)</td>\n",
       "      <td>1</td>\n",
       "      <td>42</td>\n",
       "      <td>0</td>\n",
       "      <td>7</td>\n",
       "      <td>0</td>\n",
       "      <td>0</td>\n",
       "      <td>0</td>\n",
       "      <td>InternalMedicine</td>\n",
       "      <td>Other</td>\n",
       "      <td>Circulatory</td>\n",
       "      <td>Respiratory</td>\n",
       "      <td>no</td>\n",
       "      <td>no</td>\n",
       "      <td>no</td>\n",
       "      <td>yes</td>\n",
       "      <td>2</td>\n",
       "    </tr>\n",
       "  </tbody>\n",
       "</table>\n",
       "</div>"
      ],
      "text/plain": [
       "       age  time_in_hospital  n_lab_procedures  n_procedures  n_medications  \\\n",
       "0  [70-80)                 8                72             1             18   \n",
       "1  [70-80)                 3                34             2             13   \n",
       "2  [50-60)                 5                45             0             18   \n",
       "3  [70-80)                 2                36             0             12   \n",
       "4  [60-70)                 1                42             0              7   \n",
       "\n",
       "   n_outpatient  n_inpatient  n_emergency medical_specialty       diag_1  \\\n",
       "0             2            0            0           Missing  Circulatory   \n",
       "1             0            0            0             Other        Other   \n",
       "2             0            0            0           Missing  Circulatory   \n",
       "3             1            0            0           Missing  Circulatory   \n",
       "4             0            0            0  InternalMedicine        Other   \n",
       "\n",
       "        diag_2       diag_3 glucose_test A1Ctest change diabetes_med  \\\n",
       "0  Respiratory        Other           no      no     no          yes   \n",
       "1        Other        Other           no      no     no          yes   \n",
       "2  Circulatory  Circulatory           no      no    yes          yes   \n",
       "3        Other     Diabetes           no      no    yes          yes   \n",
       "4  Circulatory  Respiratory           no      no     no          yes   \n",
       "\n",
       "   readmitted  \n",
       "0           2  \n",
       "1           2  \n",
       "2           1  \n",
       "3           1  \n",
       "4           2  "
      ]
     },
     "execution_count": 60,
     "metadata": {},
     "output_type": "execute_result"
    }
   ],
   "source": [
    "# Encode Target Variables\n",
    "encoding_mapping = {\"yes\": 1, \"no\": 2}\n",
    "\n",
    "# Replace the original values with the encoded values\n",
    "df['readmitted'] = df['readmitted'].map(encoding_mapping)\n",
    "\n",
    "# Print the encoded target variable\n",
    "print(\"after Encoded target variable:\")\n",
    "df.head()\n"
   ]
  },
  {
   "cell_type": "code",
   "execution_count": 61,
   "id": "b443abe4",
   "metadata": {},
   "outputs": [],
   "source": [
    "# Encoding Categorical Columns"
   ]
  },
  {
   "cell_type": "code",
   "execution_count": 62,
   "id": "f6c9e7e3",
   "metadata": {},
   "outputs": [],
   "source": [
    "categorical_columns = df.select_dtypes(exclude= np.number).columns"
   ]
  },
  {
   "cell_type": "code",
   "execution_count": 63,
   "id": "553f4a61",
   "metadata": {},
   "outputs": [
    {
     "data": {
      "text/plain": [
       "Index(['age', 'medical_specialty', 'diag_1', 'diag_2', 'diag_3',\n",
       "       'glucose_test', 'A1Ctest', 'change', 'diabetes_med'],\n",
       "      dtype='object')"
      ]
     },
     "execution_count": 63,
     "metadata": {},
     "output_type": "execute_result"
    }
   ],
   "source": [
    "categorical_columns"
   ]
  },
  {
   "cell_type": "code",
   "execution_count": 64,
   "id": "df5972b5",
   "metadata": {},
   "outputs": [],
   "source": [
    "# Use one-hot encoding to encode categorical columns\n",
    "encoded_data = pd.get_dummies(df, columns=categorical_columns, drop_first=True , dtype= int)\n",
    "\n",
    "# Define your features (X) and target variable (y)\n",
    "X = encoded_data.drop(columns=['readmitted'])  # Assuming 'target_variable' is your target column\n",
    "y = df['readmitted']  # Assuming 'target_variable' is your target column"
   ]
  },
  {
   "cell_type": "code",
   "execution_count": 65,
   "id": "98801014",
   "metadata": {},
   "outputs": [],
   "source": [
    "# Base Model"
   ]
  },
  {
   "cell_type": "code",
   "execution_count": 66,
   "id": "ecc3932a",
   "metadata": {},
   "outputs": [
    {
     "data": {
      "text/html": [
       "<div>\n",
       "<style scoped>\n",
       "    .dataframe tbody tr th:only-of-type {\n",
       "        vertical-align: middle;\n",
       "    }\n",
       "\n",
       "    .dataframe tbody tr th {\n",
       "        vertical-align: top;\n",
       "    }\n",
       "\n",
       "    .dataframe thead th {\n",
       "        text-align: right;\n",
       "    }\n",
       "</style>\n",
       "<table border=\"1\" class=\"dataframe\">\n",
       "  <thead>\n",
       "    <tr style=\"text-align: right;\">\n",
       "      <th></th>\n",
       "      <th>time_in_hospital</th>\n",
       "      <th>n_lab_procedures</th>\n",
       "      <th>n_procedures</th>\n",
       "      <th>n_medications</th>\n",
       "      <th>n_outpatient</th>\n",
       "      <th>n_inpatient</th>\n",
       "      <th>n_emergency</th>\n",
       "      <th>age_[50-60)</th>\n",
       "      <th>age_[60-70)</th>\n",
       "      <th>age_[70-80)</th>\n",
       "      <th>...</th>\n",
       "      <th>diag_3_Missing</th>\n",
       "      <th>diag_3_Musculoskeletal</th>\n",
       "      <th>diag_3_Other</th>\n",
       "      <th>diag_3_Respiratory</th>\n",
       "      <th>glucose_test_no</th>\n",
       "      <th>glucose_test_normal</th>\n",
       "      <th>A1Ctest_no</th>\n",
       "      <th>A1Ctest_normal</th>\n",
       "      <th>change_yes</th>\n",
       "      <th>diabetes_med_yes</th>\n",
       "    </tr>\n",
       "  </thead>\n",
       "  <tbody>\n",
       "    <tr>\n",
       "      <th>0</th>\n",
       "      <td>8</td>\n",
       "      <td>72</td>\n",
       "      <td>1</td>\n",
       "      <td>18</td>\n",
       "      <td>2</td>\n",
       "      <td>0</td>\n",
       "      <td>0</td>\n",
       "      <td>0</td>\n",
       "      <td>0</td>\n",
       "      <td>1</td>\n",
       "      <td>...</td>\n",
       "      <td>0</td>\n",
       "      <td>0</td>\n",
       "      <td>1</td>\n",
       "      <td>0</td>\n",
       "      <td>1</td>\n",
       "      <td>0</td>\n",
       "      <td>1</td>\n",
       "      <td>0</td>\n",
       "      <td>0</td>\n",
       "      <td>1</td>\n",
       "    </tr>\n",
       "    <tr>\n",
       "      <th>1</th>\n",
       "      <td>3</td>\n",
       "      <td>34</td>\n",
       "      <td>2</td>\n",
       "      <td>13</td>\n",
       "      <td>0</td>\n",
       "      <td>0</td>\n",
       "      <td>0</td>\n",
       "      <td>0</td>\n",
       "      <td>0</td>\n",
       "      <td>1</td>\n",
       "      <td>...</td>\n",
       "      <td>0</td>\n",
       "      <td>0</td>\n",
       "      <td>1</td>\n",
       "      <td>0</td>\n",
       "      <td>1</td>\n",
       "      <td>0</td>\n",
       "      <td>1</td>\n",
       "      <td>0</td>\n",
       "      <td>0</td>\n",
       "      <td>1</td>\n",
       "    </tr>\n",
       "    <tr>\n",
       "      <th>2</th>\n",
       "      <td>5</td>\n",
       "      <td>45</td>\n",
       "      <td>0</td>\n",
       "      <td>18</td>\n",
       "      <td>0</td>\n",
       "      <td>0</td>\n",
       "      <td>0</td>\n",
       "      <td>1</td>\n",
       "      <td>0</td>\n",
       "      <td>0</td>\n",
       "      <td>...</td>\n",
       "      <td>0</td>\n",
       "      <td>0</td>\n",
       "      <td>0</td>\n",
       "      <td>0</td>\n",
       "      <td>1</td>\n",
       "      <td>0</td>\n",
       "      <td>1</td>\n",
       "      <td>0</td>\n",
       "      <td>1</td>\n",
       "      <td>1</td>\n",
       "    </tr>\n",
       "    <tr>\n",
       "      <th>3</th>\n",
       "      <td>2</td>\n",
       "      <td>36</td>\n",
       "      <td>0</td>\n",
       "      <td>12</td>\n",
       "      <td>1</td>\n",
       "      <td>0</td>\n",
       "      <td>0</td>\n",
       "      <td>0</td>\n",
       "      <td>0</td>\n",
       "      <td>1</td>\n",
       "      <td>...</td>\n",
       "      <td>0</td>\n",
       "      <td>0</td>\n",
       "      <td>0</td>\n",
       "      <td>0</td>\n",
       "      <td>1</td>\n",
       "      <td>0</td>\n",
       "      <td>1</td>\n",
       "      <td>0</td>\n",
       "      <td>1</td>\n",
       "      <td>1</td>\n",
       "    </tr>\n",
       "    <tr>\n",
       "      <th>4</th>\n",
       "      <td>1</td>\n",
       "      <td>42</td>\n",
       "      <td>0</td>\n",
       "      <td>7</td>\n",
       "      <td>0</td>\n",
       "      <td>0</td>\n",
       "      <td>0</td>\n",
       "      <td>0</td>\n",
       "      <td>1</td>\n",
       "      <td>0</td>\n",
       "      <td>...</td>\n",
       "      <td>0</td>\n",
       "      <td>0</td>\n",
       "      <td>0</td>\n",
       "      <td>1</td>\n",
       "      <td>1</td>\n",
       "      <td>0</td>\n",
       "      <td>1</td>\n",
       "      <td>0</td>\n",
       "      <td>0</td>\n",
       "      <td>1</td>\n",
       "    </tr>\n",
       "    <tr>\n",
       "      <th>...</th>\n",
       "      <td>...</td>\n",
       "      <td>...</td>\n",
       "      <td>...</td>\n",
       "      <td>...</td>\n",
       "      <td>...</td>\n",
       "      <td>...</td>\n",
       "      <td>...</td>\n",
       "      <td>...</td>\n",
       "      <td>...</td>\n",
       "      <td>...</td>\n",
       "      <td>...</td>\n",
       "      <td>...</td>\n",
       "      <td>...</td>\n",
       "      <td>...</td>\n",
       "      <td>...</td>\n",
       "      <td>...</td>\n",
       "      <td>...</td>\n",
       "      <td>...</td>\n",
       "      <td>...</td>\n",
       "      <td>...</td>\n",
       "      <td>...</td>\n",
       "    </tr>\n",
       "    <tr>\n",
       "      <th>24995</th>\n",
       "      <td>14</td>\n",
       "      <td>77</td>\n",
       "      <td>1</td>\n",
       "      <td>30</td>\n",
       "      <td>0</td>\n",
       "      <td>0</td>\n",
       "      <td>0</td>\n",
       "      <td>0</td>\n",
       "      <td>0</td>\n",
       "      <td>0</td>\n",
       "      <td>...</td>\n",
       "      <td>0</td>\n",
       "      <td>0</td>\n",
       "      <td>0</td>\n",
       "      <td>0</td>\n",
       "      <td>1</td>\n",
       "      <td>0</td>\n",
       "      <td>0</td>\n",
       "      <td>1</td>\n",
       "      <td>0</td>\n",
       "      <td>0</td>\n",
       "    </tr>\n",
       "    <tr>\n",
       "      <th>24996</th>\n",
       "      <td>2</td>\n",
       "      <td>66</td>\n",
       "      <td>0</td>\n",
       "      <td>24</td>\n",
       "      <td>0</td>\n",
       "      <td>0</td>\n",
       "      <td>0</td>\n",
       "      <td>0</td>\n",
       "      <td>0</td>\n",
       "      <td>0</td>\n",
       "      <td>...</td>\n",
       "      <td>0</td>\n",
       "      <td>0</td>\n",
       "      <td>1</td>\n",
       "      <td>0</td>\n",
       "      <td>1</td>\n",
       "      <td>0</td>\n",
       "      <td>0</td>\n",
       "      <td>0</td>\n",
       "      <td>1</td>\n",
       "      <td>1</td>\n",
       "    </tr>\n",
       "    <tr>\n",
       "      <th>24997</th>\n",
       "      <td>5</td>\n",
       "      <td>12</td>\n",
       "      <td>0</td>\n",
       "      <td>6</td>\n",
       "      <td>0</td>\n",
       "      <td>1</td>\n",
       "      <td>0</td>\n",
       "      <td>0</td>\n",
       "      <td>0</td>\n",
       "      <td>1</td>\n",
       "      <td>...</td>\n",
       "      <td>0</td>\n",
       "      <td>0</td>\n",
       "      <td>1</td>\n",
       "      <td>0</td>\n",
       "      <td>0</td>\n",
       "      <td>1</td>\n",
       "      <td>1</td>\n",
       "      <td>0</td>\n",
       "      <td>0</td>\n",
       "      <td>0</td>\n",
       "    </tr>\n",
       "    <tr>\n",
       "      <th>24998</th>\n",
       "      <td>2</td>\n",
       "      <td>61</td>\n",
       "      <td>3</td>\n",
       "      <td>15</td>\n",
       "      <td>0</td>\n",
       "      <td>0</td>\n",
       "      <td>0</td>\n",
       "      <td>0</td>\n",
       "      <td>0</td>\n",
       "      <td>1</td>\n",
       "      <td>...</td>\n",
       "      <td>0</td>\n",
       "      <td>0</td>\n",
       "      <td>1</td>\n",
       "      <td>0</td>\n",
       "      <td>1</td>\n",
       "      <td>0</td>\n",
       "      <td>1</td>\n",
       "      <td>0</td>\n",
       "      <td>1</td>\n",
       "      <td>1</td>\n",
       "    </tr>\n",
       "    <tr>\n",
       "      <th>24999</th>\n",
       "      <td>10</td>\n",
       "      <td>37</td>\n",
       "      <td>1</td>\n",
       "      <td>24</td>\n",
       "      <td>0</td>\n",
       "      <td>0</td>\n",
       "      <td>0</td>\n",
       "      <td>1</td>\n",
       "      <td>0</td>\n",
       "      <td>0</td>\n",
       "      <td>...</td>\n",
       "      <td>0</td>\n",
       "      <td>0</td>\n",
       "      <td>0</td>\n",
       "      <td>0</td>\n",
       "      <td>1</td>\n",
       "      <td>0</td>\n",
       "      <td>1</td>\n",
       "      <td>0</td>\n",
       "      <td>0</td>\n",
       "      <td>0</td>\n",
       "    </tr>\n",
       "  </tbody>\n",
       "</table>\n",
       "<p>25000 rows × 45 columns</p>\n",
       "</div>"
      ],
      "text/plain": [
       "       time_in_hospital  n_lab_procedures  n_procedures  n_medications  \\\n",
       "0                     8                72             1             18   \n",
       "1                     3                34             2             13   \n",
       "2                     5                45             0             18   \n",
       "3                     2                36             0             12   \n",
       "4                     1                42             0              7   \n",
       "...                 ...               ...           ...            ...   \n",
       "24995                14                77             1             30   \n",
       "24996                 2                66             0             24   \n",
       "24997                 5                12             0              6   \n",
       "24998                 2                61             3             15   \n",
       "24999                10                37             1             24   \n",
       "\n",
       "       n_outpatient  n_inpatient  n_emergency  age_[50-60)  age_[60-70)  \\\n",
       "0                 2            0            0            0            0   \n",
       "1                 0            0            0            0            0   \n",
       "2                 0            0            0            1            0   \n",
       "3                 1            0            0            0            0   \n",
       "4                 0            0            0            0            1   \n",
       "...             ...          ...          ...          ...          ...   \n",
       "24995             0            0            0            0            0   \n",
       "24996             0            0            0            0            0   \n",
       "24997             0            1            0            0            0   \n",
       "24998             0            0            0            0            0   \n",
       "24999             0            0            0            1            0   \n",
       "\n",
       "       age_[70-80)  ...  diag_3_Missing  diag_3_Musculoskeletal  diag_3_Other  \\\n",
       "0                1  ...               0                       0             1   \n",
       "1                1  ...               0                       0             1   \n",
       "2                0  ...               0                       0             0   \n",
       "3                1  ...               0                       0             0   \n",
       "4                0  ...               0                       0             0   \n",
       "...            ...  ...             ...                     ...           ...   \n",
       "24995            0  ...               0                       0             0   \n",
       "24996            0  ...               0                       0             1   \n",
       "24997            1  ...               0                       0             1   \n",
       "24998            1  ...               0                       0             1   \n",
       "24999            0  ...               0                       0             0   \n",
       "\n",
       "       diag_3_Respiratory  glucose_test_no  glucose_test_normal  A1Ctest_no  \\\n",
       "0                       0                1                    0           1   \n",
       "1                       0                1                    0           1   \n",
       "2                       0                1                    0           1   \n",
       "3                       0                1                    0           1   \n",
       "4                       1                1                    0           1   \n",
       "...                   ...              ...                  ...         ...   \n",
       "24995                   0                1                    0           0   \n",
       "24996                   0                1                    0           0   \n",
       "24997                   0                0                    1           1   \n",
       "24998                   0                1                    0           1   \n",
       "24999                   0                1                    0           1   \n",
       "\n",
       "       A1Ctest_normal  change_yes  diabetes_med_yes  \n",
       "0                   0           0                 1  \n",
       "1                   0           0                 1  \n",
       "2                   0           1                 1  \n",
       "3                   0           1                 1  \n",
       "4                   0           0                 1  \n",
       "...               ...         ...               ...  \n",
       "24995               1           0                 0  \n",
       "24996               0           1                 1  \n",
       "24997               0           0                 0  \n",
       "24998               0           1                 1  \n",
       "24999               0           0                 0  \n",
       "\n",
       "[25000 rows x 45 columns]"
      ]
     },
     "execution_count": 66,
     "metadata": {},
     "output_type": "execute_result"
    }
   ],
   "source": [
    "sc = StandardScaler()\n",
    "\n",
    "scaled_data = sc.fit_transform(X)\n",
    "\n",
    "scaled_data = pd.DataFrame(X , columns= X.columns)\n",
    "\n",
    "scaled_data"
   ]
  },
  {
   "cell_type": "code",
   "execution_count": 67,
   "id": "11794e4e",
   "metadata": {},
   "outputs": [],
   "source": [
    "# Split the data into training and testing sets\n",
    "X_train, X_test, y_train, y_test = train_test_split(scaled_data, y, test_size=0.3, random_state=42 )"
   ]
  },
  {
   "cell_type": "code",
   "execution_count": 68,
   "id": "a47fd8db",
   "metadata": {},
   "outputs": [],
   "source": [
    "from sklearn.metrics import mean_squared_error, r2_score\n",
    "performance_data = []\n",
    "\n",
    "def model_performance(model, name):\n",
    "    pred_train = model.predict(X_train)\n",
    "    pred_test = model.predict(X_test)\n",
    "\n",
    "    rmse_train = round(np.sqrt(mean_squared_error(y_train, pred_train)),2)\n",
    "    rmse_test = round(np.sqrt(mean_squared_error(y_test, pred_test)),2)\n",
    "    \n",
    "    r2_train = r2_score(y_train, pred_train)\n",
    "    r2_test = r2_score(y_test, pred_test)\n",
    "\n",
    "    performance_data.append({'Name': name,\n",
    "                             'Train_RMSE': rmse_train,\n",
    "                             'Test_RMSE': rmse_test,\n",
    "                             'Train_R2': r2_train,\n",
    "                             'Test_R2': r2_test})\n",
    "    \n",
    "    print('Train RMSE:', rmse_train)\n",
    "    print('Test RMSE:', rmse_test)\n",
    "    print('Train R^2:', r2_train)\n",
    "    print('Test R^2:', r2_test)"
   ]
  },
  {
   "cell_type": "code",
   "execution_count": 69,
   "id": "44ebe265",
   "metadata": {},
   "outputs": [
    {
     "name": "stdout",
     "output_type": "stream",
     "text": [
      "Train RMSE: 0.48\n",
      "Test RMSE: 0.48\n",
      "Train R^2: 0.06544002255465187\n",
      "Test R^2: 0.06149780695141893\n"
     ]
    }
   ],
   "source": [
    "# Base Model\n",
    "from sklearn.linear_model import LinearRegression, LogisticRegression\n",
    "model_lr = LinearRegression().fit(X_train, y_train)\n",
    "model_performance(model_lr, 'Base Model (Linear Regression)')\n",
    "performance_df = pd.DataFrame(performance_data)\n"
   ]
  },
  {
   "cell_type": "code",
   "execution_count": 70,
   "id": "a68fdf83",
   "metadata": {},
   "outputs": [],
   "source": [
    "from sklearn.metrics import accuracy_score, f1_score, cohen_kappa_score, classification_report\n",
    "performance_data = []\n",
    "\n",
    "def model_performance(model, name):\n",
    "    # Predicting train and test values\n",
    "    pred_train = model.predict(X_train)\n",
    "    pred_test = model.predict(X_test)\n",
    "\n",
    "    # Calculating metrics\n",
    "    acc_train = accuracy_score(y_train, pred_train)\n",
    "    acc_test = accuracy_score(y_test, pred_test)\n",
    "    f1_train = f1_score(y_train, pred_train)\n",
    "    f1_test = f1_score(y_test, pred_test)\n",
    "    kappa_train = cohen_kappa_score(y_train, pred_train)\n",
    "    kappa_test = cohen_kappa_score(y_test, pred_test)\n",
    "\n",
    "    # Appending metrics to our list\n",
    "    performance_data.append({'Name': name,\n",
    "                             'Train_Accuracy': acc_train,\n",
    "                             'Test_Accuracy': acc_test,\n",
    "                             'Train_f1score': f1_train,\n",
    "                             'Test_f1score': f1_test,\n",
    "                             'Train_Kappa': kappa_train,\n",
    "                             'Test_Kappa': kappa_test})\n",
    "\n",
    "    # Printing Classification report\n",
    "    print('Train Report \\n', classification_report(y_train, pred_train))\n",
    "    print('Test Report \\n', classification_report(y_test, pred_test))"
   ]
  },
  {
   "cell_type": "code",
   "execution_count": 71,
   "id": "0b0f2bb9",
   "metadata": {},
   "outputs": [
    {
     "name": "stdout",
     "output_type": "stream",
     "text": [
      "Train Report \n",
      "               precision    recall  f1-score   support\n",
      "\n",
      "           1       0.63      0.43      0.51      8254\n",
      "           2       0.60      0.78      0.68      9246\n",
      "\n",
      "    accuracy                           0.61     17500\n",
      "   macro avg       0.62      0.60      0.60     17500\n",
      "weighted avg       0.62      0.61      0.60     17500\n",
      "\n",
      "Test Report \n",
      "               precision    recall  f1-score   support\n",
      "\n",
      "           1       0.62      0.42      0.50      3500\n",
      "           2       0.60      0.77      0.68      4000\n",
      "\n",
      "    accuracy                           0.61      7500\n",
      "   macro avg       0.61      0.60      0.59      7500\n",
      "weighted avg       0.61      0.61      0.59      7500\n",
      "\n"
     ]
    }
   ],
   "source": [
    "model_dt = LogisticRegression().fit(X_train, y_train)\n",
    "model_performance(model_dt, 'LogisticRegression')\n",
    "performance_df = pd.DataFrame(performance_data)"
   ]
  },
  {
   "cell_type": "markdown",
   "id": "6a035818",
   "metadata": {},
   "source": [
    "##### Logistic Regression Mathematical Formula:"
   ]
  },
  {
   "cell_type": "code",
   "execution_count": 72,
   "id": "e7b7e080",
   "metadata": {},
   "outputs": [],
   "source": [
    "import numpy as np\n",
    "\n",
    "# Logistic function (Sigmoid)\n",
    "def sigmoid(z):\n",
    "    return 1 / (1 + np.exp(-z))"
   ]
  },
  {
   "cell_type": "code",
   "execution_count": 73,
   "id": "1dfe035f",
   "metadata": {},
   "outputs": [],
   "source": [
    "# Predict probability using logistic regression formula\n",
    "def predict_proba(X, beta):\n",
    "    z = np.dot(X, beta)  # Linear combination of input features and coefficients\n",
    "    return sigmoid(z)"
   ]
  },
  {
   "cell_type": "code",
   "execution_count": 74,
   "id": "d05337e5",
   "metadata": {},
   "outputs": [],
   "source": [
    "# Predict class labels\n",
    "def predict(X, beta, threshold=0.5):\n",
    "    proba = predict_proba(X, beta)\n",
    "    return (proba >= threshold).astype(int)\n"
   ]
  },
  {
   "cell_type": "code",
   "execution_count": 77,
   "id": "858d03e8",
   "metadata": {},
   "outputs": [],
   "source": [
    "# Example usage:\n",
    "# X: Input features matrix\n",
    "# beta: Coefficients (including intercept)\n",
    "# threshold: Classification threshold (default is 0.5)\n",
    "# predictions = predict(X_test, beta)\n",
    "# Each term in the formula:\n",
    "# X: Feature matrix (age, time_in_hospital, etc.).\n",
    "# beta: Coefficients (learned during training).\n",
    "# sigmoid: Maps the linear combination of features to a probability between 0 and 1."
   ]
  },
  {
   "cell_type": "markdown",
   "id": "5c06b149",
   "metadata": {},
   "source": [
    "###### Report: Predicting Hospital Readmission Using Logistic Regression"
   ]
  },
  {
   "cell_type": "markdown",
   "id": "d1c246d8",
   "metadata": {},
   "source": [
    "##### 1. Key Preprocessing Steps\n",
    "Data Cleaning:\n",
    "The dataset was examined for missing values, which were either imputed or dropped based on relevance.\n",
    "Duplicate records were identified and removed to avoid data redundancy.\n",
    "Feature Engineering:\n",
    "Encoding Categorical Variables: Categorical features like medical_specialty were converted to numerical form using one-hot encoding.\n",
    "Outlier Detection: Outliers in numeric columns such as time_in_hospital were handled using the IQR method to ensure robust model training.\n",
    "Normalization:\n",
    "All numerical variables were standardized using StandardScaler to ensure that the Logistic Regression model treated each feature equally.\n",
    "\n",
    "##### 2. Model Choice and Rationale\n",
    "Logistic Regression:\n",
    "Why Logistic Regression? Logistic Regression is a suitable choice for binary classification tasks like hospital readmission prediction (readmitted vs. not readmitted). It’s simple, interpretable, and performs well when the relationship between independent variables and the target is approximately linear.\n",
    "Advantages:\n",
    "It outputs probabilities, which can be interpreted to understand the likelihood of readmission.\n",
    "It is computationally efficient and easy to implement.\n",
    "Logistic Regression can handle cases where features are correlated, which is common in medical data.\n",
    "\n",
    "##### 3. Model Performance Metrics\n",
    "Accuracy:\n",
    "\n",
    "Train: 61%\n",
    "Test: 61%\n",
    "The accuracy indicates that the model is correctly classifying approximately 61% of patients as readmitted or not.\n",
    "Precision and Recall:\n",
    "\n",
    "For class 1 (readmitted): Precision = 0.63, Recall = 0.43\n",
    "For class 2 (not readmitted): Precision = 0.60, Recall = 0.78\n",
    "The lower recall for class 1 suggests that the model is missing a significant number of readmitted patients, which is critical in healthcare applications.\n",
    "F1-score:\n",
    "\n",
    "F1-scores of 0.50 (class 1) and 0.68 (class 2) indicate a balance between precision and recall, though there’s room for improvement in predicting readmissions.\n",
    "Cohen’s Kappa:\n",
    "\n",
    "Train: 0.60, Test: 0.59\n",
    "These values suggest moderate agreement between predicted and actual classifications.\n",
    "\n",
    "##### 4. Theoretical Explanation\n",
    "Logistic Regression models the probability that an instance belongs to a particular class (readmitted or not) using the logistic function:\n",
    "\n",
    "𝑃(𝑦=1∣𝑋)=11+𝑒 −(𝛽0+𝛽1𝑋1+𝛽2𝑋2+⋯+𝛽𝑛𝑋𝑛)\n",
    "P(y=1∣X)= 1+e −(β0+β1X1+β2X2+⋯+βnXn)\n",
    "Sigmoid Function: The logistic function outputs a probability between 0 and 1. If this probability exceeds a threshold (usually 0.5), the model predicts the patient will be readmitted.\n",
    "Coefficients (β): During training, the model learns the coefficients that maximize the likelihood of the observed data. These coefficients represent the relationship between each feature and the probability of readmission.\n",
    "In Python, this is translated into code using libraries like Scikit-learn, which internally optimizes the coefficients using gradient descent. The sigmoid function is implemented to map the linear combination of features into a probability score, and the final prediction is based on a threshold applied to this probability.\n",
    "\n",
    "##### 5. Suggested Improvements\n",
    "Feature Engineering:\n",
    "\n",
    "Interaction Terms: Introducing interaction terms between variables (e.g., between age and time_in_hospital) could capture more complex relationships and improve model performance.\n",
    "Regularization:\n",
    "\n",
    "Adding L2 regularization (Ridge) could help address overfitting by penalizing large coefficients. This is particularly useful when the model has many features, as is common with one-hot encoded categorical variables.\n",
    "Advanced Models:\n",
    "\n",
    "Exploring more sophisticated models like Random Forests or Gradient Boosting Machines could improve performance by capturing non-linear relationships that Logistic Regression might miss.\n",
    "Balancing the Classes:\n",
    "\n",
    "Readmission cases may be less frequent than non-readmission cases, leading to an imbalanced dataset. Addressing this using techniques like SMOTE (Synthetic Minority Over-sampling Technique) or class weighting could improve recall for the readmitted class.\n",
    "This report summarizes the steps taken to develop a predictive model for hospital readmissions and suggests avenues for future improvement."
   ]
  },
  {
   "cell_type": "code",
   "execution_count": null,
   "id": "98ed58a0",
   "metadata": {},
   "outputs": [],
   "source": []
  }
 ],
 "metadata": {
  "kernelspec": {
   "display_name": "Python 3 (ipykernel)",
   "language": "python",
   "name": "python3"
  },
  "language_info": {
   "codemirror_mode": {
    "name": "ipython",
    "version": 3
   },
   "file_extension": ".py",
   "mimetype": "text/x-python",
   "name": "python",
   "nbconvert_exporter": "python",
   "pygments_lexer": "ipython3",
   "version": "3.11.5"
  }
 },
 "nbformat": 4,
 "nbformat_minor": 5
}
